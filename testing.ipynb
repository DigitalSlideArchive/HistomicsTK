{
 "cells": [
  {
   "cell_type": "markdown",
   "id": "b7647066",
   "metadata": {},
   "source": [
    "Install by running `pip install maturin` \n",
    "\n",
    "Build by running ` maturin develop --release` which will build and install the wheel to your env"
   ]
  },
  {
   "cell_type": "code",
   "execution_count": null,
   "id": "5ad56905",
   "metadata": {},
   "outputs": [],
   "source": [
    "from time import time\n",
    "import numpy as np\n",
    "import pyvips as pv\n",
    "#import memray\n",
    "import histomicstk as htk\n",
    "from histomicstk.saliency.tissue_detection import get_tissue_mask\n",
    "import pca_deconv\n",
    "# %load_ext memray"
   ]
  },
  {
   "cell_type": "code",
   "execution_count": null,
   "id": "45c269ab",
   "metadata": {},
   "outputs": [],
   "source": [
    "test_pv = pv.Image.new_from_file(\"Some Reasonably Sized WSI Image\") / 255\n",
    "# test_pv = test_pv.resize(0.5, kernel=\"linear\")\n",
    "test = test_pv.numpy()\n",
    "mask = get_tissue_mask(test, sigma=1)[-1]\n",
    "print(test.shape, test.dtype, test.min(), test.max())\n",
    "test = test.astype(np.float64) * 255 + 1\n",
    "print(test.shape, test.dtype, test.min(), test.max())\n",
    "print(mask.shape, mask.dtype, mask.min(), mask.max())\n",
    "# mask=None"
   ]
  },
  {
   "cell_type": "code",
   "execution_count": null,
   "id": "9111173e",
   "metadata": {},
   "outputs": [],
   "source": [
    "# %%memray_flamegraph --native\n",
    "start = time()\n",
    "rs_pca = pca_deconv.py_rgb_separate_stains_macenko_pca(test, None, 16, .01, .99, mask)\n",
    "print(\"Rust PCA took\", time() - start, \"seconds\")"
   ]
  },
  {
   "cell_type": "code",
   "execution_count": null,
   "id": "db81dad1",
   "metadata": {},
   "outputs": [],
   "source": [
    "# %%memray_flamegraph --native\n",
    "start = time()\n",
    "htk_pca = htk.preprocessing.color_deconvolution.rgb_separate_stains_macenko_pca(test - 1, None, mask_out=mask)\n",
    "print(\"HTK PCA took\", time() - start, \"seconds\")"
   ]
  },
  {
   "cell_type": "code",
   "execution_count": null,
   "id": "aa198216",
   "metadata": {},
   "outputs": [],
   "source": [
    "print(\"rust: \\n\", rs_pca)\n",
    "print(\"htk: \\n\", htk_pca)"
   ]
  },
  {
   "cell_type": "code",
   "execution_count": null,
   "id": "432f0a45",
   "metadata": {},
   "outputs": [],
   "source": [
    "np.save(\"test_image.npy\", test)"
   ]
  },
  {
   "cell_type": "code",
   "execution_count": null,
   "id": "60468484",
   "metadata": {},
   "outputs": [],
   "source": [
    "# use matplotlib to visualize the two different PCA results, showing the the three channels of both methods independently\n",
    "import matplotlib.pyplot as plt\n",
    "htk_stains = htk.preprocessing.color_deconvolution.color_deconvolution(test, htk_pca).Stains\n",
    "rs_stains = htk.preprocessing.color_deconvolution.color_deconvolution(test, rs_pca).Stains\n",
    "fig, axs = plt.subplots(2, 3, figsize=(15, 10))\n",
    "axs[0, 0].imshow(htk_stains[:, :, 0], cmap='gray')\n",
    "axs[0, 0].set_title('HTK Stain 1')\n",
    "axs[0, 1].imshow(htk_stains[:, :, 1], cmap='gray')\n",
    "axs[0, 1].set_title('HTK Stain 2')\n",
    "axs[0, 2].imshow(htk_stains[:, :, 2], cmap='gray')\n",
    "axs[0, 2].set_title('HTK Stain 3')\n",
    "\n",
    "axs[1, 0].imshow(rs_stains[:, :, 0], cmap='gray')\n",
    "axs[1, 0].set_title('Rust Stain 1')\n",
    "axs[1, 1].imshow(rs_stains[:, :, 1], cmap='gray')\n",
    "axs[1, 1].set_title('Rust Stain 2')\n",
    "axs[1, 2].imshow(rs_stains[:, :, 2], cmap='gray')\n",
    "axs[1, 2].set_title('Rust Stain 3')"
   ]
  },
  {
   "cell_type": "code",
   "execution_count": null,
   "id": "961b583d",
   "metadata": {},
   "outputs": [],
   "source": [
    "# visualize each channel of each deconv, but just for a tile at the center of the image:\n",
    "tile_size = 1024\n",
    "center_x, center_y = test.shape[1] // 2 + tile_size, test.shape[0] // 2 + tile_size\n",
    "start_x = center_x - tile_size // 2\n",
    "start_y = center_y - tile_size // 2\n",
    "\n",
    "htk_tile = htk_stains[start_y:start_y + tile_size, start_x:start_x + tile_size, :]\n",
    "rs_tile = rs_stains[start_y:start_y + tile_size, start_x:start_x + tile_size, :]\n",
    "orig_image_tile = test[start_y:start_y + tile_size, start_x:start_x + tile_size, :]\n",
    "mask_tile = mask[start_y:start_y + tile_size, start_x:start_x + tile_size]\n",
    "\n",
    "fig, axs = plt.subplots(2, 4, figsize=(15, 10))\n",
    "axs[0, 0].imshow(htk_tile[:, :, 0], cmap='gray')\n",
    "axs[0, 0].set_title('HTK Tile Stain 1')\n",
    "axs[0, 1].imshow(htk_tile[:, :, 1], cmap='gray')\n",
    "axs[0, 1].set_title('HTK Tile Stain 2')\n",
    "axs[0, 2].imshow(htk_tile[:, :, 2], cmap='gray')\n",
    "axs[0, 2].set_title('HTK Tile Stain 3')\n",
    "axs[0, 3].imshow(orig_image_tile)\n",
    "axs[0, 3].set_title(\"Original Image\")\n",
    "\n",
    "axs[1, 0].imshow(rs_tile[:, :, 0], cmap='gray')\n",
    "axs[1, 0].set_title('Rust Tile Stain 1')\n",
    "axs[1, 1].imshow(rs_tile[:, :, 1], cmap='gray')\n",
    "axs[1, 1].set_title('Rust Tile Stain 2')\n",
    "axs[1, 2].imshow(rs_tile[:, :, 2], cmap='gray')\n",
    "axs[1, 2].set_title('Rust Tile Stain 3')\n",
    "axs[1, 3].imshow(mask_tile)\n",
    "axs[1, 3].set_title(\"Mask\")\n",
    "\n",
    "plt.tight_layout()\n",
    "plt.show()"
   ]
  },
  {
   "cell_type": "code",
   "execution_count": null,
   "id": "f769bc71",
   "metadata": {},
   "outputs": [],
   "source": [
    "print(rs_pca[0].dtype, rs_pca[0].min(), rs_pca[0].max())\n",
    "print(htk_pca[0].dtype, htk_pca[0].min(), htk_pca[0].max())\n",
    "print(rs_pca[1].dtype, rs_pca[1].min(), rs_pca[1].max())\n",
    "print(htk_pca[1].dtype, htk_pca[1].min(), htk_pca[1].max())\n",
    "print(rs_pca[2].dtype, rs_pca[2].min(), rs_pca[2].max())\n",
    "print(htk_pca[2].dtype, htk_pca[2].min(), htk_pca[2].max())"
   ]
  },
  {
   "cell_type": "code",
   "execution_count": null,
   "id": "f68cb805",
   "metadata": {},
   "outputs": [],
   "source": []
  }
 ],
 "metadata": {
  "kernelspec": {
   "display_name": ".venv (3.12.11)",
   "language": "python",
   "name": "python3"
  },
  "language_info": {
   "codemirror_mode": {
    "name": "ipython",
    "version": 3
   },
   "file_extension": ".py",
   "mimetype": "text/x-python",
   "name": "python",
   "nbconvert_exporter": "python",
   "pygments_lexer": "ipython3",
   "version": "3.12.11"
  }
 },
 "nbformat": 4,
 "nbformat_minor": 5
}
