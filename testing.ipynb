{
 "cells": [
  {
   "cell_type": "code",
   "execution_count": 1,
   "id": "5ad56905",
   "metadata": {},
   "outputs": [],
   "source": [
    "from time import time\n",
    "import numpy as np\n",
    "import pyvips as pv\n",
    "#import memray\n",
    "import histomicstk as htk\n",
    "from histomicstk.saliency.tissue_detection import get_tissue_mask\n",
    "import matplotlib.pyplot as plt\n",
    "%load_ext memray"
   ]
  },
  {
   "cell_type": "code",
   "execution_count": 9,
   "id": "45c269ab",
   "metadata": {},
   "outputs": [
    {
     "name": "stdout",
     "output_type": "stream",
     "text": [
      "(12300, 11249, 3) float32 0.0006127451 1.0\n",
      "(12300, 11249, 3) float64 0.1562500055297278 255.0\n"
     ]
    }
   ],
   "source": [
    "test_pv = pv.Image.new_from_file(\"../LR10_N554_S14_HE.jpg\") / 255\n",
    "test_pv = test_pv.resize(0.5, kernel=\"linear\")\n",
    "test = test_pv.numpy()\n",
    "mask = get_tissue_mask(test, sigma=1)[-1]\n",
    "print(test.shape, test.dtype, test.min(), test.max())\n",
    "test = test.astype(np.float64) * 255\n",
    "print(test.shape, test.dtype, test.min(), test.max())\n",
    "# print(mask.shape, mask.dtype, mask.min(), mask.max())\n",
    "# # mask=None"
   ]
  },
  {
   "cell_type": "code",
   "execution_count": 3,
   "id": "9fb6004c",
   "metadata": {},
   "outputs": [
    {
     "name": "stdout",
     "output_type": "stream",
     "text": [
      "153045220\n",
      "0\n"
     ]
    }
   ],
   "source": [
    "x = htk.preprocessing.color_conversion.rgb_to_sda(test, I_0=None, allow_negatives=False)\n",
    "y = htk.preprocessing.color_conversion.rgb_to_sda_rs(test, I_0=None, allow_negatives=False)\n",
    "precision64 = x != y\n",
    "precision32 = x.astype(np.float32) != y.astype(np.float32)\n",
    "print(precision64.sum())\n",
    "print(precision32.sum())"
   ]
  },
  {
   "cell_type": "code",
   "execution_count": 4,
   "id": "b3c01108",
   "metadata": {},
   "outputs": [
    {
     "name": "stdout",
     "output_type": "stream",
     "text": [
      "0.14056042235863808\n",
      "0.14056042234847294\n",
      "9\n",
      "0\n"
     ]
    }
   ],
   "source": [
    "x1 = htk.preprocessing.color_deconvolution.separate_stains_macenko_pca(x)\n",
    "y1 = htk.preprocessing.color_deconvolution.separate_stains_macenko_pca_rs(y)\n",
    "precision64 = x1 != y1\n",
    "precision32 = x1.astype(np.float32) != y1.astype(np.float32)\n",
    "print(x1[0,0])\n",
    "print(y1[0,0])\n",
    "print(precision64.sum())\n",
    "print(precision32.sum())"
   ]
  },
  {
   "cell_type": "code",
   "execution_count": 10,
   "id": "9111173e",
   "metadata": {},
   "outputs": [
    {
     "data": {
      "text/html": [
       "<pre style=\"white-space:pre;overflow-x:auto;line-height:normal;font-family:Menlo,'DejaVu Sans Mono',consolas,'Courier New',monospace\">/Users/mjbarrett/Code/rustification/pca_deconv/HistomicsTK/.venv/lib/python3.13/site-packages/rich/live.py:256: \n",
       "UserWarning: install \"ipywidgets\" for Jupyter support\n",
       "  warnings.warn('install \"ipywidgets\" for Jupyter support')\n",
       "</pre>\n"
      ],
      "text/plain": [
       "/Users/mjbarrett/Code/rustification/pca_deconv/HistomicsTK/.venv/lib/python3.13/site-packages/rich/live.py:256: \n",
       "UserWarning: install \"ipywidgets\" for Jupyter support\n",
       "  warnings.warn('install \"ipywidgets\" for Jupyter support')\n"
      ]
     },
     "metadata": {},
     "output_type": "display_data"
    },
    {
     "name": "stdout",
     "output_type": "stream",
     "text": [
      "Rust PCA took 2.5106089115142822 seconds\n"
     ]
    },
    {
     "data": {
      "text/html": [
       "<pre style=\"white-space:pre;overflow-x:auto;line-height:normal;font-family:Menlo,'DejaVu Sans Mono',consolas,'Courier New',monospace\"></pre>\n"
      ],
      "text/plain": []
     },
     "metadata": {},
     "output_type": "display_data"
    },
    {
     "data": {
      "text/html": [
       "<pre style=\"white-space:pre;overflow-x:auto;line-height:normal;font-family:Menlo,'DejaVu Sans Mono',consolas,'Courier New',monospace\">⚠ <span style=\"color: #808000; text-decoration-color: #808000; font-weight: bold\"> No symbol information was found for the Python interpreter </span> ⚠\n",
       "\n",
       "Without symbolic information reports showing native traces <span style=\"font-weight: bold\">may not accurately reflect stack traces</span>. Please use an \n",
       "interpreter built with debug symbols for best results. Check <span style=\"color: #0000ff; text-decoration-color: #0000ff; text-decoration: underline\">https://bloomberg.github.io/memray/native_mode.html</span> \n",
       "for more information regarding how memray resolves symbols.\n",
       "\n",
       "</pre>\n"
      ],
      "text/plain": [
       "⚠ \u001b[1;33m No symbol information was found for the Python interpreter \u001b[0m ⚠\n",
       "\n",
       "Without symbolic information reports showing native traces \u001b[1mmay not accurately reflect stack traces\u001b[0m. Please use an \n",
       "interpreter built with debug symbols for best results. Check \u001b[4;94mhttps://bloomberg.github.io/memray/native_mode.html\u001b[0m \n",
       "for more information regarding how memray resolves symbols.\n",
       "\n"
      ]
     },
     "metadata": {},
     "output_type": "display_data"
    },
    {
     "data": {
      "text/html": [
       "<pre style=\"white-space:pre;overflow-x:auto;line-height:normal;font-family:Menlo,'DejaVu Sans Mono',consolas,'Courier New',monospace\"></pre>\n"
      ],
      "text/plain": []
     },
     "metadata": {},
     "output_type": "display_data"
    },
    {
     "data": {
      "text/html": [
       "<pre style=\"white-space:pre;overflow-x:auto;line-height:normal;font-family:Menlo,'DejaVu Sans Mono',consolas,'Courier New',monospace\">Results saved to \n",
       "<span style=\"color: #008080; text-decoration-color: #008080; font-weight: bold\">/Users/mjbarrett/Code/rustification/pca_deconv/HistomicsTK/memray-results/tmp9k7e38kj/flamegraph.html</span>\n",
       "</pre>\n"
      ],
      "text/plain": [
       "Results saved to \n",
       "\u001b[1;36m/Users/mjbarrett/Code/rustification/pca_deconv/HistomicsTK/memray-results/tmp9k7e38kj/\u001b[0m\u001b[1;36mflamegraph.html\u001b[0m\n"
      ]
     },
     "metadata": {},
     "output_type": "display_data"
    },
    {
     "data": {
      "text/html": [
       "\n",
       "        <iframe\n",
       "            width=\"100%\"\n",
       "            height=\"600\"\n",
       "            src=\"/Users/mjbarrett/Code/rustification/pca_deconv/HistomicsTK/memray-results/tmp9k7e38kj/flamegraph.html\"\n",
       "            frameborder=\"0\"\n",
       "            allowfullscreen\n",
       "            \n",
       "        ></iframe>\n",
       "        "
      ],
      "text/plain": [
       "<IPython.lib.display.IFrame at 0x302a6c3e0>"
      ]
     },
     "metadata": {},
     "output_type": "display_data"
    }
   ],
   "source": [
    "%%memray_flamegraph --native\n",
    "start = time()\n",
    "rs_pca = htk.preprocessing.color_deconvolution.rgb_separate_stains_macenko_pca_rs(\n",
    "    test, \n",
    "    255, \n",
    "    mask_out=mask\n",
    ")\n",
    "print(\"Rust PCA took\", time() - start, \"seconds\")"
   ]
  },
  {
   "cell_type": "code",
   "execution_count": 11,
   "id": "db81dad1",
   "metadata": {},
   "outputs": [
    {
     "name": "stdout",
     "output_type": "stream",
     "text": [
      "HTK PCA took 11.010789155960083 seconds\n"
     ]
    },
    {
     "data": {
      "text/html": [
       "<pre style=\"white-space:pre;overflow-x:auto;line-height:normal;font-family:Menlo,'DejaVu Sans Mono',consolas,'Courier New',monospace\"></pre>\n"
      ],
      "text/plain": []
     },
     "metadata": {},
     "output_type": "display_data"
    },
    {
     "data": {
      "text/html": [
       "<pre style=\"white-space:pre;overflow-x:auto;line-height:normal;font-family:Menlo,'DejaVu Sans Mono',consolas,'Courier New',monospace\">⚠ <span style=\"color: #808000; text-decoration-color: #808000; font-weight: bold\"> No symbol information was found for the Python interpreter </span> ⚠\n",
       "\n",
       "Without symbolic information reports showing native traces <span style=\"font-weight: bold\">may not accurately reflect stack traces</span>. Please use an \n",
       "interpreter built with debug symbols for best results. Check <span style=\"color: #0000ff; text-decoration-color: #0000ff; text-decoration: underline\">https://bloomberg.github.io/memray/native_mode.html</span> \n",
       "for more information regarding how memray resolves symbols.\n",
       "\n",
       "</pre>\n"
      ],
      "text/plain": [
       "⚠ \u001b[1;33m No symbol information was found for the Python interpreter \u001b[0m ⚠\n",
       "\n",
       "Without symbolic information reports showing native traces \u001b[1mmay not accurately reflect stack traces\u001b[0m. Please use an \n",
       "interpreter built with debug symbols for best results. Check \u001b[4;94mhttps://bloomberg.github.io/memray/native_mode.html\u001b[0m \n",
       "for more information regarding how memray resolves symbols.\n",
       "\n"
      ]
     },
     "metadata": {},
     "output_type": "display_data"
    },
    {
     "data": {
      "text/html": [
       "<pre style=\"white-space:pre;overflow-x:auto;line-height:normal;font-family:Menlo,'DejaVu Sans Mono',consolas,'Courier New',monospace\"></pre>\n"
      ],
      "text/plain": []
     },
     "metadata": {},
     "output_type": "display_data"
    },
    {
     "data": {
      "text/html": [
       "<pre style=\"white-space:pre;overflow-x:auto;line-height:normal;font-family:Menlo,'DejaVu Sans Mono',consolas,'Courier New',monospace\">Results saved to \n",
       "<span style=\"color: #008080; text-decoration-color: #008080; font-weight: bold\">/Users/mjbarrett/Code/rustification/pca_deconv/HistomicsTK/memray-results/tmpfz9ntpye/flamegraph.html</span>\n",
       "</pre>\n"
      ],
      "text/plain": [
       "Results saved to \n",
       "\u001b[1;36m/Users/mjbarrett/Code/rustification/pca_deconv/HistomicsTK/memray-results/tmpfz9ntpye/\u001b[0m\u001b[1;36mflamegraph.html\u001b[0m\n"
      ]
     },
     "metadata": {},
     "output_type": "display_data"
    },
    {
     "data": {
      "text/html": [
       "\n",
       "        <iframe\n",
       "            width=\"100%\"\n",
       "            height=\"600\"\n",
       "            src=\"/Users/mjbarrett/Code/rustification/pca_deconv/HistomicsTK/memray-results/tmpfz9ntpye/flamegraph.html\"\n",
       "            frameborder=\"0\"\n",
       "            allowfullscreen\n",
       "            \n",
       "        ></iframe>\n",
       "        "
      ],
      "text/plain": [
       "<IPython.lib.display.IFrame at 0x302003890>"
      ]
     },
     "metadata": {},
     "output_type": "display_data"
    }
   ],
   "source": [
    "%%memray_flamegraph --native\n",
    "start = time()\n",
    "htk_pca = htk.preprocessing.color_deconvolution.rgb_separate_stains_macenko_pca(\n",
    "    test, \n",
    "    255, \n",
    "    mask_out=mask\n",
    ")\n",
    "print(\"HTK PCA took\", time() - start, \"seconds\")"
   ]
  },
  {
   "cell_type": "code",
   "execution_count": null,
   "id": "aa198216",
   "metadata": {},
   "outputs": [
    {
     "name": "stdout",
     "output_type": "stream",
     "text": [
      "0.25888478439628576\n",
      "0.2588847843942145\n",
      "9\n",
      "0\n",
      "rust: \n",
      " [[ 0.25888478  0.56856653  0.67569952]\n",
      " [ 0.8973328   0.56304892  0.09620101]\n",
      " [ 0.3574528   0.59975663 -0.73087313]]\n",
      "htk: \n",
      " [[ 0.25888478  0.56856653  0.67569952]\n",
      " [ 0.8973328   0.56304892  0.09620101]\n",
      " [ 0.3574528   0.59975663 -0.73087313]]\n"
     ]
    }
   ],
   "source": [
    "precision64 = htk_pca != rs_pca\n",
    "precision32 = htk_pca.astype(np.float32) != rs_pca.astype(np.float32)\n",
    "print(htk_pca[0,0])\n",
    "print(rs_pca[0,0])\n",
    "print(precision64.sum())\n",
    "print(precision32.sum())\n",
    "print(\"htk: \\n\", htk_pca)\n",
    "print(\"rust: \\n\", rs_pca)"
   ]
  },
  {
   "cell_type": "code",
   "execution_count": null,
   "id": "432f0a45",
   "metadata": {},
   "outputs": [],
   "source": [
    "np.save(\"test_image.npy\", test)"
   ]
  },
  {
   "cell_type": "code",
   "execution_count": null,
   "id": "60468484",
   "metadata": {},
   "outputs": [],
   "source": [
    "# use matplotlib to visualize the two different PCA results, showing the the three channels of both methods independently\n",
    "import matplotlib.pyplot as plt\n",
    "htk_stains = htk.preprocessing.color_deconvolution.color_deconvolution(test, htk_pca).Stains\n",
    "rs_stains = htk.preprocessing.color_deconvolution.color_deconvolution(test, rs_pca).Stains\n",
    "fig, axs = plt.subplots(2, 3, figsize=(15, 10))\n",
    "axs[0, 0].imshow(htk_stains[:, :, 0], cmap='gray')\n",
    "axs[0, 0].set_title('HTK Stain 1')\n",
    "axs[0, 1].imshow(htk_stains[:, :, 1], cmap='gray')\n",
    "axs[0, 1].set_title('HTK Stain 2')\n",
    "axs[0, 2].imshow(htk_stains[:, :, 2], cmap='gray')\n",
    "axs[0, 2].set_title('HTK Stain 3')\n",
    "\n",
    "axs[1, 0].imshow(rs_stains[:, :, 0], cmap='gray')\n",
    "axs[1, 0].set_title('Rust Stain 1')\n",
    "axs[1, 1].imshow(rs_stains[:, :, 1], cmap='gray')\n",
    "axs[1, 1].set_title('Rust Stain 2')\n",
    "axs[1, 2].imshow(rs_stains[:, :, 2], cmap='gray')\n",
    "axs[1, 2].set_title('Rust Stain 3')"
   ]
  },
  {
   "cell_type": "code",
   "execution_count": null,
   "id": "961b583d",
   "metadata": {},
   "outputs": [],
   "source": [
    "# visualize each channel of each deconv, but just for a tile at the center of the image:\n",
    "tile_size = 1024\n",
    "center_x, center_y = test.shape[1] // 2 + tile_size, test.shape[0] // 2 + tile_size\n",
    "start_x = center_x - tile_size // 2\n",
    "start_y = center_y - tile_size // 2\n",
    "\n",
    "htk_tile = htk_stains[start_y:start_y + tile_size, start_x:start_x + tile_size, :]\n",
    "rs_tile = rs_stains[start_y:start_y + tile_size, start_x:start_x + tile_size, :]\n",
    "orig_image_tile = test[start_y:start_y + tile_size, start_x:start_x + tile_size, :]\n",
    "mask_tile = mask[start_y:start_y + tile_size, start_x:start_x + tile_size]\n",
    "\n",
    "fig, axs = plt.subplots(2, 4, figsize=(15, 10))\n",
    "axs[0, 0].imshow(htk_tile[:, :, 0], cmap='gray')\n",
    "axs[0, 0].set_title('HTK Tile Stain 1')\n",
    "axs[0, 1].imshow(htk_tile[:, :, 1], cmap='gray')\n",
    "axs[0, 1].set_title('HTK Tile Stain 2')\n",
    "axs[0, 2].imshow(htk_tile[:, :, 2], cmap='gray')\n",
    "axs[0, 2].set_title('HTK Tile Stain 3')\n",
    "axs[0, 3].imshow(orig_image_tile)\n",
    "axs[0, 3].set_title(\"Original Image\")\n",
    "\n",
    "axs[1, 0].imshow(rs_tile[:, :, 0], cmap='gray')\n",
    "axs[1, 0].set_title('Rust Tile Stain 1')\n",
    "axs[1, 1].imshow(rs_tile[:, :, 1], cmap='gray')\n",
    "axs[1, 1].set_title('Rust Tile Stain 2')\n",
    "axs[1, 2].imshow(rs_tile[:, :, 2], cmap='gray')\n",
    "axs[1, 2].set_title('Rust Tile Stain 3')\n",
    "axs[1, 3].imshow(mask_tile)\n",
    "axs[1, 3].set_title(\"Mask\")\n",
    "\n",
    "plt.tight_layout()\n",
    "plt.show()"
   ]
  },
  {
   "cell_type": "code",
   "execution_count": null,
   "id": "f769bc71",
   "metadata": {},
   "outputs": [],
   "source": [
    "print(rs_pca[0].dtype, rs_pca[0].min(), rs_pca[0].max())\n",
    "print(htk_pca[0].dtype, htk_pca[0].min(), htk_pca[0].max())\n",
    "print(rs_pca[1].dtype, rs_pca[1].min(), rs_pca[1].max())\n",
    "print(htk_pca[1].dtype, htk_pca[1].min(), htk_pca[1].max())\n",
    "print(rs_pca[2].dtype, rs_pca[2].min(), rs_pca[2].max())\n",
    "print(htk_pca[2].dtype, htk_pca[2].min(), htk_pca[2].max())"
   ]
  },
  {
   "cell_type": "code",
   "execution_count": null,
   "id": "f68cb805",
   "metadata": {},
   "outputs": [],
   "source": []
  }
 ],
 "metadata": {
  "kernelspec": {
   "display_name": ".venv (3.13.5)",
   "language": "python",
   "name": "python3"
  },
  "language_info": {
   "codemirror_mode": {
    "name": "ipython",
    "version": 3
   },
   "file_extension": ".py",
   "mimetype": "text/x-python",
   "name": "python",
   "nbconvert_exporter": "python",
   "pygments_lexer": "ipython3",
   "version": "3.13.5"
  }
 },
 "nbformat": 4,
 "nbformat_minor": 5
}
