{
 "cells": [
  {
   "cell_type": "markdown",
   "metadata": {},
   "source": [
    "# Nuclei Classification\n",
    "\n",
    "The **Nuclei Classification CLI** requires three input files:\n",
    "\n",
    "1. Classification model as a `.pkl` file.\n",
    "2. Nuclei annotations.\n",
    "3. Extracted nuclei features.\n",
    "\n",
    "This tutorial will walk you through the process of creating a sample nuclei classification model using **scikit-learn**. We will generate synthetic training data labels by applying K-means clustering to the provided nuclei features. Next, the data along with the labels will be used to train a Random Forest classifier, which will be the basis of our model. Finally, this model, along with nuclei annotations and nuclei features, will be utilized to run the nuclei classification code.\n",
    "\n",
    "Let's dive into the steps of creating and using the nuclei classification model!"
   ]
  },
  {
   "cell_type": "code",
   "execution_count": null,
   "metadata": {},
   "outputs": [],
   "source": [
    "import histomicstk as htk\n",
    "\n",
    "import numpy as np\n",
    "import scipy as sp\n",
    "\n",
    "import skimage.io\n",
    "import skimage.measure\n",
    "import skimage.color\n",
    "\n",
    "import matplotlib.pyplot as plt\n",
    "import matplotlib.patches as mpatches\n",
    "%matplotlib inline\n",
    "\n",
    "#Some nice default configuration for plots\n",
    "plt.rcParams['figure.figsize'] = 10, 10\n",
    "plt.rcParams['image.cmap'] = 'gray'\n",
    "titlesize = 24"
   ]
  },
  {
   "cell_type": "markdown",
   "metadata": {},
   "source": [
    "#### Load input image"
   ]
  },
  {
   "cell_type": "code",
   "execution_count": null,
   "metadata": {},
   "outputs": [],
   "source": [
    "input_image_file = ('https://data.kitware.com/api/v1/file/'\n",
    "                    '57718cc28d777f1ecd8a883c/download')  # Easy1.png\n",
    "\n",
    "im_input = skimage.io.imread(input_image_file)[:, :, :3]\n",
    "\n",
    "plt.imshow(im_input)\n",
    "_ = plt.title('Input Image', fontsize=16)"
   ]
  },
  {
   "cell_type": "markdown",
   "metadata": {},
   "source": [
    "#### Perform color normalization"
   ]
  },
  {
   "cell_type": "code",
   "execution_count": null,
   "metadata": {},
   "outputs": [],
   "source": [
    "# Load reference image for normalization\n",
    "ref_image_file = ('https://data.kitware.com/api/v1/file/'\n",
    "                  '57718cc28d777f1ecd8a883c/download')  # L1.png\n",
    "\n",
    "im_reference = skimage.io.imread(ref_image_file)[:, :, :3]\n",
    "\n",
    "# get mean and stddev of reference image in lab space\n",
    "mean_ref, std_ref = htk.preprocessing.color_conversion.lab_mean_std(im_reference)\n",
    "\n",
    "# perform reinhard color normalization\n",
    "im_nmzd = htk.preprocessing.color_normalization.reinhard(im_input, mean_ref, std_ref)\n",
    "\n",
    "# Display results\n",
    "plt.figure(figsize=(20, 10))\n",
    "\n",
    "plt.subplot(1, 2, 1)\n",
    "plt.imshow(im_reference)\n",
    "_ = plt.title('Reference Image', fontsize=titlesize)\n",
    "\n",
    "plt.subplot(1, 2, 2)\n",
    "plt.imshow(im_nmzd)\n",
    "_ = plt.title('Normalized Input Image', fontsize=titlesize)"
   ]
  },
  {
   "cell_type": "markdown",
   "metadata": {},
   "source": [
    "#### Perform color deconvolution"
   ]
  },
  {
   "cell_type": "code",
   "execution_count": null,
   "metadata": {},
   "outputs": [],
   "source": [
    "# create stain to color map\n",
    "stainColorMap = {\n",
    "    'hematoxylin': [0.65, 0.70, 0.29],\n",
    "    'eosin': [0.07, 0.99, 0.11],\n",
    "    'dab': [0.27, 0.57, 0.78],\n",
    "    'null': [0.0, 0.0, 0.0]\n",
    "}\n",
    "\n",
    "# specify stains of input image\n",
    "stain_1 = 'hematoxylin'   # nuclei stain\n",
    "stain_2 = 'eosin'         # cytoplasm stain\n",
    "stain_3 = 'null'          # set to null of input contains only two stains\n",
    "\n",
    "# create stain matrix\n",
    "W = np.array([stainColorMap[stain_1],\n",
    "              stainColorMap[stain_2],\n",
    "              stainColorMap[stain_3]]).T\n",
    "\n",
    "# perform standard color deconvolution\n",
    "im_stains = htk.preprocessing.color_deconvolution.color_deconvolution(im_nmzd, W).Stains\n",
    "\n",
    "# Display results\n",
    "plt.figure(figsize=(20, 10))\n",
    "\n",
    "plt.subplot(1, 2, 1)\n",
    "plt.imshow(im_stains[:, :, 0])\n",
    "plt.title(stain_1, fontsize=titlesize)\n",
    "\n",
    "plt.subplot(1, 2, 2)\n",
    "plt.imshow(im_stains[:, :, 1])\n",
    "_ = plt.title(stain_2, fontsize=titlesize)"
   ]
  },
  {
   "cell_type": "markdown",
   "metadata": {},
   "source": [
    "#### Segment Nuclei"
   ]
  },
  {
   "cell_type": "code",
   "execution_count": null,
   "metadata": {},
   "outputs": [],
   "source": [
    "# need to update it after the abstract nuclei is merged with master\n",
    "\n",
    "# get nuclei/hematoxylin channel\n",
    "im_nuclei_stain = im_stains[:, :, 0]\n",
    "\n",
    "# segment foreground\n",
    "foreground_threshold = 60\n",
    "\n",
    "im_fgnd_mask = sp.ndimage.morphology.binary_fill_holes(\n",
    "    im_nuclei_stain < foreground_threshold)\n",
    "\n",
    "# run adaptive multi-scale LoG filter\n",
    "min_radius = 10\n",
    "max_radius = 15\n",
    "\n",
    "im_log_max, im_sigma_max = htk.filters.shape.cdog(\n",
    "    im_nuclei_stain, im_fgnd_mask,\n",
    "    sigma_min=min_radius * np.sqrt(2),\n",
    "    sigma_max=max_radius * np.sqrt(2)\n",
    ")\n",
    "\n",
    "# detect and segment nuclei using local maximum clustering\n",
    "local_max_search_radius = 10\n",
    "\n",
    "im_nuclei_seg_mask, seeds, maxima = htk.segmentation.nuclear.max_clustering(\n",
    "    im_log_max, im_fgnd_mask, local_max_search_radius)\n",
    "\n",
    "# filter out small objects\n",
    "min_nucleus_area = 80\n",
    "\n",
    "im_nuclei_seg_mask = htk.segmentation.label.area_open(\n",
    "    im_nuclei_seg_mask, min_nucleus_area).astype(np.int)\n",
    "\n",
    "# compute nuclei properties\n",
    "objProps = skimage.measure.regionprops(im_nuclei_seg_mask)\n",
    "\n",
    "print('Number of nuclei = ', len(objProps))\n",
    "\n",
    "# Display results\n",
    "plt.figure(figsize=(20, 10))\n",
    "\n",
    "plt.subplot(1, 2, 1)\n",
    "plt.imshow(skimage.color.label2rgb(im_nuclei_seg_mask, im_input, bg_label=0), origin='lower')\n",
    "plt.title('Nuclei segmentation mask overlay', fontsize=titlesize)\n",
    "\n",
    "plt.subplot(1, 2, 2)\n",
    "plt.imshow(im_input)\n",
    "plt.xlim([0, im_input.shape[1]])\n",
    "plt.ylim([0, im_input.shape[0]])\n",
    "plt.title('Nuclei bounding boxes', fontsize=titlesize)\n",
    "\n",
    "for i in range(len(objProps)):\n",
    "\n",
    "    c = [objProps[i].centroid[1], objProps[i].centroid[0], 0]\n",
    "    width = objProps[i].bbox[3] - objProps[i].bbox[1] + 1\n",
    "    height = objProps[i].bbox[2] - objProps[i].bbox[0] + 1\n",
    "\n",
    "    cur_bbox = {\n",
    "        \"type\": \"rectangle\",\n",
    "        \"center\": c,\n",
    "        \"width\": width,\n",
    "        \"height\": height,\n",
    "    }\n",
    "\n",
    "    plt.plot(c[0], c[1], 'g+')\n",
    "    mrect = mpatches.Rectangle([c[0] - 0.5 * width, c[1] - 0.5 * height],\n",
    "                               width, height, fill=False, ec='g', linewidth=2)\n",
    "    plt.gca().add_patch(mrect)"
   ]
  },
  {
   "cell_type": "code",
   "execution_count": null,
   "metadata": {
    "collapsed": true
   },
   "outputs": [],
   "source": []
  }
 ],
 "metadata": {
  "celltoolbar": "Raw Cell Format",
  "kernelspec": {
   "display_name": "tiffexp",
   "language": "python",
   "name": "python3"
  },
  "language_info": {
   "codemirror_mode": {
    "name": "ipython",
    "version": 3
   },
   "file_extension": ".py",
   "mimetype": "text/x-python",
   "name": "python",
   "nbconvert_exporter": "python",
   "pygments_lexer": "ipython3",
   "version": "3.10.4"
  }
 },
 "nbformat": 4,
 "nbformat_minor": 1
}
