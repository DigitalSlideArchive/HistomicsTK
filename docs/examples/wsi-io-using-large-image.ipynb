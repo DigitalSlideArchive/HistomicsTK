{
 "cells": [
  {
   "cell_type": "markdown",
   "metadata": {},
   "source": [
    "# Reading Whole-slide Images using Large-image"
   ]
  },
  {
   "cell_type": "markdown",
   "metadata": {},
   "source": [
    "This notebook demonstrates how to use [Large-image](https://github.com/girder/large_image) to seamlessly read different kinds of information from large multi-resolution whole-slide images. "
   ]
  },
  {
   "cell_type": "code",
   "execution_count": 1,
   "metadata": {},
   "outputs": [
    {
     "name": "stderr",
     "output_type": "stream",
     "text": [
      "INFO:girder:Created LRU Cache for 'tilesource' with 335 maximum size\n",
      "INFO:root:Notice: Could not import MapnikTileSource\n"
     ]
    }
   ],
   "source": [
    "import large_image"
   ]
  },
  {
   "cell_type": "code",
   "execution_count": 2,
   "metadata": {
    "collapsed": true
   },
   "outputs": [],
   "source": [
    "import os\n",
    "\n",
    "import numpy as np\n",
    "import matplotlib.pyplot as plt\n",
    "\n",
    "%matplotlib inline\n",
    "\n",
    "#Some nice default configuration for plots\n",
    "plt.rcParams['figure.figsize'] = 10, 10\n",
    "plt.rcParams['image.cmap'] = 'gray'"
   ]
  },
  {
   "cell_type": "markdown",
   "metadata": {},
   "source": [
    "#### Download a sample whole-slide image"
   ]
  },
  {
   "cell_type": "markdown",
   "metadata": {},
   "source": [
    "The following code downloads a sample slide from data.kitware.com"
   ]
  },
  {
   "cell_type": "code",
   "execution_count": 3,
   "metadata": {
    "collapsed": true
   },
   "outputs": [],
   "source": [
    "wsi_path = 'TCGA-02-0010-01Z-00-DX4.07de2e55-a8fe-40ee-9e98-bcb78050b9f7.svs'\n",
    "\n",
    "if not os.path.isfile(wsi_path):\n",
    "    !curl -OJ 'https://data.kitware.com/api/v1/file/5899dd6d8d777f07219fcb23/download'"
   ]
  },
  {
   "cell_type": "markdown",
   "metadata": {},
   "source": [
    "#### Loading a whole-slide image"
   ]
  },
  {
   "cell_type": "code",
   "execution_count": 4,
   "metadata": {},
   "outputs": [
    {
     "name": "stderr",
     "output_type": "stream",
     "text": [
      "INFO:girder:Using memcached for large_image caching\n"
     ]
    },
    {
     "name": "stdout",
     "output_type": "stream",
     "text": [
      "\u001b[35mUsing memcached for large_image caching\u001b[0m\n"
     ]
    }
   ],
   "source": [
    "ts = large_image.getTileSource(wsi_path)"
   ]
  },
  {
   "cell_type": "markdown",
   "metadata": {},
   "source": [
    "The `getTileSource()` function returns an object of the TileSource class that contains the following utility functions for reading different kinds of information from whole-slide images:\n",
    "\n",
    "* [getMetadata()](#getMetadata) - Gets basic slide metadata\n",
    "* [getNativeMagnication()](#getNativeMagnification) - Gets the magnification at which the slide was scanned\n",
    "* [getMagnicationForLevel()](#getMagnificationForLevel) - Gets the magnification of the specified level in the image pyramid\n",
    "* [getLevelForMagnification()](#getLevelForMagnification) - Gets the level of the image pyramid closest to a specified magnification\n",
    "* [tileIterator()](#tileIterator) - Gets an iterator for sequentially iterating through the slide in a tiled fashion at any scale/magnification\n",
    "* [getSingleTile()](#getSingleTile) - Gets the tile at a specified linear position of the tileIterator.\n",
    "* [getRegion()](#getRegion) - Gets a region of interest (ROI) within the slide at a specified scale.\n",
    "* [convertRegionScale()](#convertRegionScale) - Converts a region from one scale to another.\n",
    "* [getRegionAtAnotherScale()](#getRegionAtAnotherScale) - Gets an image of a region at another scale.\n",
    "\n",
    "The purpose and typical usage of each of these utility functions is presented in detail below."
   ]
  },
  {
   "cell_type": "markdown",
   "metadata": {},
   "source": [
    "<a id=\"getMetadata\"></a>"
   ]
  },
  {
   "cell_type": "markdown",
   "metadata": {},
   "source": [
    "#### getMetadata()"
   ]
  },
  {
   "cell_type": "markdown",
   "metadata": {},
   "source": [
    "The `getMetadata()` function of the TileSource class returns a python dict containing basic metadata of a slide:\n",
    "\n",
    "* *levels* - number of levels in the image pyramid\n",
    "* *magnification* - native magnification or the magnification associated with the base or highest resolution level at which the slide was scanned.\n",
    "* *mm_x, mm_y* - width and height of a pixel in millimeters at the base resolution. \n",
    "* *sizeX, sizeY* - width and height of the slide in pixels at the base resolution.\n",
    "* *tileWidth, tileHeight* - width and height of a tile in pixels at the base resolution."
   ]
  },
  {
   "cell_type": "code",
   "execution_count": 5,
   "metadata": {},
   "outputs": [
    {
     "data": {
      "text/plain": [
       "{'levels': 9,\n",
       " 'magnification': 20.0,\n",
       " 'mm_x': 0.0005015,\n",
       " 'mm_y': 0.0005015,\n",
       " 'sizeX': 32001,\n",
       " 'sizeY': 38474,\n",
       " 'tileHeight': 240,\n",
       " 'tileWidth': 240}"
      ]
     },
     "execution_count": 5,
     "metadata": {},
     "output_type": "execute_result"
    }
   ],
   "source": [
    "ts.getMetadata()"
   ]
  },
  {
   "cell_type": "markdown",
   "metadata": {},
   "source": [
    "<a id=\"getNativeMagnification\"></a>"
   ]
  },
  {
   "cell_type": "markdown",
   "metadata": {},
   "source": [
    "#### getNativeMagnification()"
   ]
  },
  {
   "cell_type": "markdown",
   "metadata": {},
   "source": [
    "The `getNativeMagnification()` function of the TileSource class returns a python dict containing the magnification and physical size of a pixel in millimeters at the base or highest resolution level at which the slide was scanned"
   ]
  },
  {
   "cell_type": "code",
   "execution_count": 6,
   "metadata": {},
   "outputs": [
    {
     "data": {
      "text/plain": [
       "{'magnification': 20.0, 'mm_x': 0.0005015, 'mm_y': 0.0005015}"
      ]
     },
     "execution_count": 6,
     "metadata": {},
     "output_type": "execute_result"
    }
   ],
   "source": [
    "ts.getNativeMagnification()"
   ]
  },
  {
   "cell_type": "markdown",
   "metadata": {},
   "source": [
    "<a id=\"getMagnificationForLevel\"></a>"
   ]
  },
  {
   "cell_type": "markdown",
   "metadata": {},
   "source": [
    "#### getMagnificationForLevel()"
   ]
  },
  {
   "cell_type": "markdown",
   "metadata": {},
   "source": [
    "The `getMagnificationForLevel()` function of the TileSource class returns a python dict containing the magnification and physical size of a pixel for a specified level in the image pyramid."
   ]
  },
  {
   "cell_type": "code",
   "execution_count": 7,
   "metadata": {},
   "outputs": [
    {
     "data": {
      "text/plain": [
       "{'level': 0,\n",
       " 'magnification': 0.078125,\n",
       " 'mm_x': 0.128384,\n",
       " 'mm_y': 0.128384,\n",
       " 'scale': 256.0}"
      ]
     },
     "execution_count": 7,
     "metadata": {},
     "output_type": "execute_result"
    }
   ],
   "source": [
    "# Get the magnification associated with Level 0\n",
    "ts.getMagnificationForLevel(level=0)"
   ]
  },
  {
   "cell_type": "code",
   "execution_count": 8,
   "metadata": {},
   "outputs": [
    {
     "name": "stdout",
     "output_type": "stream",
     "text": [
      "Level-0 : {'magnification': 0.078125, 'scale': 256.0, 'level': 0, 'mm_y': 0.128384, 'mm_x': 0.128384}\n",
      "Level-1 : {'magnification': 0.15625, 'scale': 128.0, 'level': 1, 'mm_y': 0.064192, 'mm_x': 0.064192}\n",
      "Level-2 : {'magnification': 0.3125, 'scale': 64.0, 'level': 2, 'mm_y': 0.032096, 'mm_x': 0.032096}\n",
      "Level-3 : {'magnification': 0.625, 'scale': 32.0, 'level': 3, 'mm_y': 0.016048, 'mm_x': 0.016048}\n",
      "Level-4 : {'magnification': 1.25, 'scale': 16.0, 'level': 4, 'mm_y': 0.008024, 'mm_x': 0.008024}\n",
      "Level-5 : {'magnification': 2.5, 'scale': 8.0, 'level': 5, 'mm_y': 0.004012, 'mm_x': 0.004012}\n",
      "Level-6 : {'magnification': 5.0, 'scale': 4.0, 'level': 6, 'mm_y': 0.002006, 'mm_x': 0.002006}\n",
      "Level-7 : {'magnification': 10.0, 'scale': 2.0, 'level': 7, 'mm_y': 0.001003, 'mm_x': 0.001003}\n",
      "Level-8 : {'magnification': 20.0, 'level': 8, 'scale': 1.0, 'mm_y': 0.0005015, 'mm_x': 0.0005015}\n"
     ]
    }
   ],
   "source": [
    "# Get the magnification associated with all levels of the image pyramid\n",
    "for i in range(ts.levels):\n",
    "    print('Level-{} : {}'.format(i, ts.getMagnificationForLevel(level=i)))"
   ]
  },
  {
   "cell_type": "markdown",
   "metadata": {},
   "source": [
    "<a id=\"getLevelForMagnification\"></a>"
   ]
  },
  {
   "cell_type": "markdown",
   "metadata": {},
   "source": [
    "#### getLevelForMagnification()"
   ]
  },
  {
   "cell_type": "markdown",
   "metadata": {},
   "source": [
    "The `getLevelForMagnification()` function of the TileSource class returns the level of the image pyramid associated with a specific magnification or pixel size in millimeters."
   ]
  },
  {
   "cell_type": "code",
   "execution_count": 9,
   "metadata": {},
   "outputs": [
    {
     "name": "stdout",
     "output_type": "stream",
     "text": [
      "Level with magnification closest to 10x = 7\n"
     ]
    }
   ],
   "source": [
    "# get level whose magnification is closest to 10x\n",
    "print('Level with magnification closest to 10x = {}'.format(ts.getLevelForMagnification(10)))"
   ]
  },
  {
   "cell_type": "code",
   "execution_count": 10,
   "metadata": {},
   "outputs": [
    {
     "name": "stdout",
     "output_type": "stream",
     "text": [
      "Level with pixel width closest to 0.0005mm = 8\n"
     ]
    }
   ],
   "source": [
    "# get level whose pixel width is closest to 0.0005 mm\n",
    "print('Level with pixel width closest to 0.0005mm = {}'.format(ts.getLevelForMagnification(mm_x=0.0005)))"
   ]
  },
  {
   "cell_type": "markdown",
   "metadata": {},
   "source": [
    "<a id=\"tileIterator\"></a>"
   ]
  },
  {
   "cell_type": "markdown",
   "metadata": {},
   "source": [
    "#### tileIterator()"
   ]
  },
  {
   "cell_type": "markdown",
   "metadata": {},
   "source": [
    "The `tileIterator()` function provides a iterator for sequentially iterating through the entire slide or a region of interest (ROI) within the slide at any desired resolution in a tile-wise fashion. \n",
    "\n",
    "Among others, below are the main optional parameters of tileIterator that cover most of the tile-wise iteration use-cases for image analysis:\n",
    "\n",
    "* `region` - allows you to specify an ROI within the slide.\n",
    "* `scale` - allows you to specify the desired magnification/resolution.\n",
    "* `tile_size` - allows you to specify the size of the tile.\n",
    "* `tile_overlap` - allows you to specify the amount of overlap between adjacent tiles.\n",
    "* `format` - allows you to specify the format of the tile image (numpy array or PIL image).\n",
    "\n",
    "At each iteration the tileIterator outputs a dictionary that includes:\n",
    "\n",
    "* `tile` - cropped tile image that is lazy loaded or computed only when this element of the dictionary is explicitly accessed.\n",
    "* `format` - format of the tile.\n",
    "* `x, y` - (left, top) coordinates in current magnification pixels.\n",
    "* `width, height` -  size of current tile in current magnification pixels.\n",
    "* `level` - level of the current tile.\n",
    "* `magnification` - magnification of the current tile.\n",
    "* `mm_x, mm_y` - size of the current tile pixel in millimeters.\n",
    "* `gx, gy` - (left, top) coordinate in base/maximum resolution pixels.\n",
    "* `gwidth, gheight` - size of of the current tile in base/maximum resolution pixels.\n",
    "\n",
    "The lazy loading of the tile image allows us to quickly iterate through the tiles and selectively process tiles of interest based on the tile metadata."
   ]
  },
  {
   "cell_type": "markdown",
   "metadata": {},
   "source": [
    "Take a look at the help of this function for a detailed description of the inputs, parameters and outputs"
   ]
  },
  {
   "cell_type": "code",
   "execution_count": null,
   "metadata": {
    "scrolled": true
   },
   "outputs": [
    {
     "name": "stdout",
     "output_type": "stream",
     "text": [
      "Help on method tileIterator in module server.tilesource.base:\n",
      "\n",
      "tileIterator(self, format=('numpy',), resample=False, **kwargs) method of server.tilesource.svs.SVSFileTileSource instance\n",
      "    Iterate on all tiles in the specifed region at the specified scale.\n",
      "    Each tile is returned as part of a dictionary that includes\n",
      "        x, y: (left, top) coordinates in current magnification pixels\n",
      "        width, height: size of current tile incurrent magnification pixels\n",
      "        tile: cropped tile image\n",
      "        format: format of the tile\n",
      "        level: level of the current tile\n",
      "        level_x, level_y: the tile reference number within the level.\n",
      "        magnification: magnification of the current tile\n",
      "        mm_x, mm_y: size of the current tile pixel in millimeters.\n",
      "        gx, gy: (left, top) coordinate in maximum-resolution pixels\n",
      "        gwidth, gheight: size of of the current tile in maximum resolution\n",
      "            pixels.\n",
      "    If a region that includes partial tiles is requested, those tiles are\n",
      "    cropped appropriately.  Most images will have tiles that get cropped\n",
      "    along the right and bottom egdes in any case.  If an exact\n",
      "    magnification or scale is requested, no tiles will be returned.\n",
      "    \n",
      "    :param format: the desired format or a tuple of allowed formats.\n",
      "        Formats are members of (TILE_FORMAT_PIL, TILE_FORMAT_NUMPY,\n",
      "        TILE_FORMAT_IMAGE).  If TILE_FORMAT_IMAGE, encoding must be\n",
      "        specified.\n",
      "    :param resample: If True or one of PIL.Image.NEAREST, LANCZOS,\n",
      "        BILINEAR, or BICUBIC to resample tiles that are not the target\n",
      "        output size.  Tiles that are resampled may have non-integer x, y,\n",
      "        width, and height values, and will have an additional dictionary\n",
      "        entries of:\n",
      "            scaled: the scaling factor that was applied (less than 1 is\n",
      "                downsampled).\n",
      "            tile_x, tile_y: (left, top) coordinates before scaling\n",
      "            tile_width, tile_height: size of the current tile before\n",
      "                scaling.\n",
      "        Note that scipy.misc.imresize uses PIL internally.\n",
      "    :param region: a dictionary of optional values which specify the part\n",
      "            of the image to process.\n",
      "        left: the left edge (inclusive) of the region to process.\n",
      "        top: the top edge (inclusive) of the region to process.\n",
      "        right: the right edge (exclusive) of the region to process.\n",
      "        bottom: the bottom edge (exclusive) of the region to process.\n",
      "        width: the width of the region to process.\n",
      "        height: the height of the region to process.\n",
      "        units: either 'base_pixels' (default), 'pixels', 'mm', or\n",
      "            'fraction'.  base_pixels are in maximum resolution pixels.\n",
      "            pixels is in the specified magnification pixels.  mm is in the\n",
      "            specified magnification scale.  fraction is a scale of 0 to 1.\n",
      "            pixels and mm are only available if the magnification and mm\n",
      "            per pixel are defined for the image.\n",
      "    :param output: a dictionary of optional values which specify the size\n",
      "            of the output.\n",
      "        maxWidth: maximum width in pixels.  If either maxWidth or maxHeight\n",
      "            is specified, magnfication, mm_x, and mm_y are ignored.\n",
      "        maxHeight: maximum height in pixels.\n",
      "    :param scale: a dictionary of optional values which specify the scale\n",
      "            of the region and / or output.  This applies to region if\n",
      "            pixels or mm are used for inits.  It applies to output if\n",
      "            neither output maxWidth nor maxHeight is specified.\n",
      "        magnification: the magnification ratio.  Only used is maxWidth and\n",
      "            maxHeight are not specified or None.\n",
      "        mm_x: the horizontal size of a pixel in millimeters.\n",
      "        mm_y: the vertical size of a pixel in millimeters.\n",
      "        exact: if True, only a level that matches exactly will be returned.\n",
      "            This is only applied if magnification, mm_x, or mm_y is used.\n",
      "    :param tile_position: if present, either a number to only yield the\n",
      "        (tile_position)th tile [0 to (xmax - min) * (ymax - ymin)) that the\n",
      "        iterator would yield, or a dictionary of {region_x, region_y} to\n",
      "        yield that tile, where 0, 0 is the first tile yielded, and\n",
      "        xmax - xmin - 1, ymax - ymin - 1 is the last tile yielded, or a\n",
      "        dictionary of {level_x, level_y} to yield that specific tile if it\n",
      "        is in the region.\n",
      "    :param tile_size: if present, retile the output to the specified tile\n",
      "            size.  If only width or only height is specified, the resultant\n",
      "            tiles will be square.  This is a dictionary containing at least\n",
      "            one of:\n",
      "        width: the desired tile width.\n",
      "        height: the desired tile height.\n",
      "    :param tile_overlap: if present, retile the output adding a symmetric\n",
      "            overlap to the tiles.  If either x or y is not specified, it\n",
      "            defaults to zero.  The overlap does not change the tile size,\n",
      "            only the stride of the tiles.  This is a dictionary containing:\n",
      "        x: the horizontal overlap in pixels.\n",
      "        y: the vertical overlap in pixels.\n",
      "        edges: if True, then the edge tiles will exclude the overlap\n",
      "            distance.  If unset or False, the edge tiles are full size.\n",
      "                The overlap is conceptually split between the two sides of\n",
      "            the tile.  This is only relevant to where overlap is reported\n",
      "            or if edges is True\n",
      "                As an example, suppose an image that is 8 pixels across\n",
      "            (01234567) and a tile size of 5 is requested with an overlap of\n",
      "            4.  If the edges option is False (the default), the following\n",
      "            tiles are returned: 01234, 12345, 23456, 34567.  Each tile\n",
      "            reports its overlap, and the non-overlapped area of each tile\n",
      "            is 012, 3, 4, 567.  If the edges option is True, the tiles\n",
      "            returned are: 012, 0123, 01234, 12345, 23456, 34567, 4567, 567,\n",
      "            with the non-overlapped area of each as 0, 1, 2, 3, 4, 5, 6, 7.\n",
      "    :param encoding: if format includes TILE_FORMAT_IMAGE, a valid PIL\n",
      "        encoding (typically 'PNG', 'JPEG', or 'TIFF').  Must also be in the\n",
      "        TileOutputMimeTypes map.\n",
      "    :param jpegQuality: the quality to use when encoding a JPEG.\n",
      "    :param jpegSubsampling: the subsampling level to use when encoding a\n",
      "        JPEG.\n",
      "    :param tiffCompression: the compression format when encoding a TIFF.\n",
      "        This is usually 'raw', 'tiff_lzw', 'jpeg', or 'tiff_adobe_deflate'.\n",
      "    :param **kwargs: optional arguments.\n",
      "    :yields: an iterator that returns a dictionary as listed above.\n",
      "\n"
     ]
    }
   ],
   "source": [
    "help(ts.tileIterator)"
   ]
  },
  {
   "cell_type": "markdown",
   "metadata": {},
   "source": [
    "The code below shows how to iterate through an ROI within a slide with a specific tile size and at a specific resolution"
   ]
  },
  {
   "cell_type": "code",
   "execution_count": null,
   "metadata": {},
   "outputs": [
    {
     "name": "stdout",
     "output_type": "stream",
     "text": [
      "Tile-100 = \n"
     ]
    },
    {
     "data": {
      "text/plain": [
       "{'format': 'PIL',\n",
       " 'gheight': 1000.0,\n",
       " 'gwidth': 1000.0,\n",
       " 'gx': 16150.0,\n",
       " 'gy': 8550.0,\n",
       " 'height': 1000,\n",
       " 'iterator_range': {'level_x_max': 27,\n",
       "  'level_x_min': 5,\n",
       "  'level_y_max': 27,\n",
       "  'level_y_min': 5,\n",
       "  'position': 484,\n",
       "  'region_x_max': 22,\n",
       "  'region_y_max': 22},\n",
       " 'level': 8,\n",
       " 'level_x': 17,\n",
       " 'level_y': 9,\n",
       " 'magnification': 20.0,\n",
       " 'mm_x': 0.0005015,\n",
       " 'mm_y': 0.0005015,\n",
       " 'tile': <PIL.Image.Image image mode=RGBA size=1000x1000 at 0x7F3A025C0850>,\n",
       " 'tile_overlap': {'bottom': 25, 'left': 25, 'right': 25, 'top': 25},\n",
       " 'tile_position': {'level_x': 17,\n",
       "  'level_y': 9,\n",
       "  'position': 100,\n",
       "  'region_x': 12,\n",
       "  'region_y': 4},\n",
       " 'width': 1000,\n",
       " 'x': 16150,\n",
       " 'y': 8550}"
      ]
     },
     "metadata": {},
     "output_type": "display_data"
    }
   ],
   "source": [
    "num_tiles = 0\n",
    "\n",
    "tile_means = []\n",
    "tile_areas = []\n",
    "\n",
    "for tile_info in ts.tileIterator(region=dict(left=5000, top=5000, width=20000, height=20000, units='base_pixels'), \n",
    "                                 scale=dict(magnification=20),\n",
    "                                 tile_size=dict(width=1000, height=1000), \n",
    "                                 tile_overlap=dict(x=50, y=50),\n",
    "                                 format=large_image.tilesource.TILE_FORMAT_PIL\n",
    "                                ):\n",
    "    \n",
    "    if num_tiles == 100:\n",
    "        print('Tile-{} = '.format(num_tiles))\n",
    "        display(tile_info)\n",
    "        \n",
    "    im_tile = np.array(tile_info['tile'])\n",
    "    tile_mean_rgb = np.mean(im_tile[:, :, :3], axis=(0, 1))\n",
    "    \n",
    "    tile_means.append( tile_mean_rgb )\n",
    "    tile_areas.append( tile_info['width'] * tile_info['height'] )\n",
    "    \n",
    "    num_tiles += 1\n",
    "    \n",
    "slide_mean_rgb = np.average(tile_means, axis=0, weights=tile_areas)\n",
    "\n",
    "print('Number of tiles = {}'.format(num_tiles))\n",
    "print('Slide mean color = {}'.format(slide_mean_rgb))"
   ]
  },
  {
   "cell_type": "markdown",
   "metadata": {},
   "source": [
    "<a id=\"getSingleTile\"></a>"
   ]
  },
  {
   "cell_type": "markdown",
   "metadata": {},
   "source": [
    "#### getSingleTile()"
   ]
  },
  {
   "cell_type": "markdown",
   "metadata": {},
   "source": [
    "The `getSingleTile()` function can be used to directly get the tile at a specific position of the tile iterator. \n",
    "In addition to the aformentioned parameters of the `tileIterator`, it takes a tile_position parameter that can be used to specify the linear position of the tile of interest. "
   ]
  },
  {
   "cell_type": "code",
   "execution_count": null,
   "metadata": {},
   "outputs": [],
   "source": [
    "pos = 1000\n",
    "\n",
    "tile_info = ts.getSingleTile(tile_size=dict(width=1000, height=1000), \n",
    "                             scale=dict(magnification=20), \n",
    "                             tile_position=pos)\n",
    "\n",
    "plt.imshow(tile_info['tile'])"
   ]
  },
  {
   "cell_type": "markdown",
   "metadata": {},
   "source": [
    "<a id=\"getRegion\"></a>"
   ]
  },
  {
   "cell_type": "markdown",
   "metadata": {},
   "source": [
    "#### getRegion()"
   ]
  },
  {
   "cell_type": "markdown",
   "metadata": {},
   "source": [
    "The `getRegion()` function can be used to get a rectangular region of interest (ROI) within the slide at any scale/magnification via the following two parameters:\n",
    "\n",
    "* `region` - a dictionary containing the (left, top, width, height, units) of the ROI\n",
    "* `scale` - a dictionary containing the magnification or the physical size of a pixel (mm_x, mm_y)"
   ]
  },
  {
   "cell_type": "markdown",
   "metadata": {},
   "source": [
    "The following code reads the entire slide at a low magnification"
   ]
  },
  {
   "cell_type": "code",
   "execution_count": null,
   "metadata": {},
   "outputs": [],
   "source": [
    "im_low_res, _ = ts.getRegion(scale=dict(magnification=1.25), \n",
    "                             format=large_image.tilesource.TILE_FORMAT_NUMPY)\n",
    "\n",
    "plt.imshow(im_low_res)"
   ]
  },
  {
   "cell_type": "markdown",
   "metadata": {},
   "source": [
    "The following code shows how to read an ROI"
   ]
  },
  {
   "cell_type": "code",
   "execution_count": null,
   "metadata": {},
   "outputs": [],
   "source": [
    "im_roi, _ = ts.getRegion(region=dict(left=10000, top=10000, width=1000, height=1000, units='base_pixels'),\n",
    "                         format=large_image.tilesource.TILE_FORMAT_NUMPY)\n",
    "\n",
    "plt.imshow(im_roi)"
   ]
  },
  {
   "cell_type": "markdown",
   "metadata": {},
   "source": [
    "<a id=\"convertRegionScale\"></a>"
   ]
  },
  {
   "cell_type": "markdown",
   "metadata": {
    "collapsed": true
   },
   "source": [
    "#### convertRegionScale()"
   ]
  },
  {
   "cell_type": "markdown",
   "metadata": {},
   "source": [
    "The `convertRegionScale()` function can be used to convert a region from one scale/magnification to another as illustrated in the following example"
   ]
  },
  {
   "cell_type": "code",
   "execution_count": null,
   "metadata": {},
   "outputs": [],
   "source": [
    "help(ts.convertRegionScale)"
   ]
  },
  {
   "cell_type": "code",
   "execution_count": null,
   "metadata": {},
   "outputs": [],
   "source": [
    "tr = ts.convertRegionScale(sourceRegion=dict(left=5000, top=5000, width=1000, height=1000, units='mag_pixels'), \n",
    "                           sourceScale=dict(magnification=20),\n",
    "                           targetScale=dict(magnification=10),\n",
    "                           targetUnits='mag_pixels'\n",
    "                          )\n",
    "\n",
    "display(tr)"
   ]
  },
  {
   "cell_type": "markdown",
   "metadata": {},
   "source": [
    "<a id=\"getRegionAtAnotherScale\"></a>"
   ]
  },
  {
   "cell_type": "markdown",
   "metadata": {},
   "source": [
    "#### getRegionAtAnotherScale()"
   ]
  },
  {
   "cell_type": "markdown",
   "metadata": {},
   "source": [
    "The getRegionAtAnotherScale() function can be used to get an image of a region at another scale."
   ]
  },
  {
   "cell_type": "code",
   "execution_count": null,
   "metadata": {
    "scrolled": true
   },
   "outputs": [],
   "source": [
    "help(ts.getRegionAtAnotherScale)"
   ]
  },
  {
   "cell_type": "code",
   "execution_count": null,
   "metadata": {},
   "outputs": [],
   "source": [
    "# get a large region defined at base resolution at a much lower scale\n",
    "im_roi, _ = ts.getRegionAtAnotherScale(\n",
    "    sourceRegion=dict(left=5000, top=5000, width=10000, height=10000, units='base_pixels'),\n",
    "    targetScale=dict(magnification=1.25),\n",
    "    format=large_image.tilesource.TILE_FORMAT_NUMPY)\n",
    "\n",
    "print im_roi.shape"
   ]
  }
 ],
 "metadata": {
  "kernelspec": {
   "display_name": "Python 2",
   "language": "python",
   "name": "python2"
  },
  "language_info": {
   "codemirror_mode": {
    "name": "ipython",
    "version": 2
   },
   "file_extension": ".py",
   "mimetype": "text/x-python",
   "name": "python",
   "nbconvert_exporter": "python",
   "pygments_lexer": "ipython2",
   "version": "2.7.12"
  }
 },
 "nbformat": 4,
 "nbformat_minor": 2
}
