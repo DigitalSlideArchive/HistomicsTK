{
 "cells": [
  {
   "cell_type": "markdown",
   "metadata": {},
   "source": [
    "## How to create a classifier model form the nuclei features data\n",
    "\n",
    "This tutorial will create a *Random forest* algorithm based nuclei classifier using features extracted from an image data.\n",
    "\n",
    "*This tutorial is created by Subin Erattakulangara (Kitware)*"
   ]
  },
  {
   "cell_type": "markdown",
   "metadata": {},
   "source": [
    "### Step 1"
   ]
  },
  {
   "cell_type": "markdown",
   "metadata": {},
   "source": [
    "Download a sample image file from : <br>\n",
    "Open the Nuclei Feature extraction panel in DSA. and upload the image data into area shown below. provide the location for both feature file and annotation files to be saved. then press submit to start the process.The cli will generate the feature file requried for the classifier. Annotation file is not required for creating the classfier.\n"
   ]
  },
  {
   "cell_type": "markdown",
   "metadata": {},
   "source": [
    "### Step"
   ]
  },
  {
   "cell_type": "markdown",
   "metadata": {},
   "source": [
    "Download the feature files once the cli generates it and store it in a different folder. Here is the output feature file generated for the image given above. Run the following python code inside the folder to create a feature file with classes."
   ]
  }
 ],
 "metadata": {
  "language_info": {
   "name": "python"
  },
  "orig_nbformat": 4
 },
 "nbformat": 4,
 "nbformat_minor": 2
}
