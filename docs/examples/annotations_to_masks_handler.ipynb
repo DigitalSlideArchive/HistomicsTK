{
 "cells": [
  {
   "cell_type": "markdown",
   "metadata": {},
   "source": [
    "# Annotations to masks workflow\n",
    "\n",
    "**Overview:** \n",
    "\n",
    "This includes tools to parse annotations from an item (slide) into masks to use in training and evaluating imaging algorithms. The basic functionality involves mapping annotation rectangles (potentially rotated) and polygons to regions-of-interest (ROIs) and making one mask per region of interest. This extends on some of the workflows described in Amgad et al, 2019:\n",
    "\n",
    "__Mohamed Amgad, Habiba Elfandy, Hagar Hussein, ..., Jonathan Beezley, Deepak R Chittajallu, David Manthey, David A Gutman, Lee A D Cooper, Structured crowdsourcing enables convolutional segmentation of histology images, Bioinformatics, 2019, btz083__\n",
    "\n",
    "\n",
    "This slide used as a test example:  \n",
    "\n",
    "[TCGA-A2-A0YE-01Z-00-DX1](http://candygram.neurology.emory.edu:8080/histomicstk#?image=5d586d57bd4404c6b1f28640&bounds=53566%2C33193%2C68926%2C40593%2C0 )\n",
    "\n",
    "The user uses a csv file like the one in \n",
    "```tests/test_files/sample_GTcodes.csv ```\n",
    "to control pixel values assigned to mask, overlay order of various annotation groups, which groups are considered to be ROIs, etc.\n",
    "\n",
    "**Why is this needed?**\n",
    "\n",
    "The code handles the following complex situations:\n",
    "\n",
    "- Multiple ROIs per item\n",
    "\n",
    "- Rotated rectangular annotations and ROIs\n",
    "\n",
    "- Polygonal ROIs\n",
    "\n",
    "- Overlapping annotations\n",
    "\n",
    "**Where to look?**\n",
    "\n",
    "```\n",
    "|_ histomicstk/\n",
    "|   |\n",
    "|   |_annotations_and_masks/\n",
    "|      |_annotation_and_mask_utils.py \n",
    "|      |_annotations_to_masks_handler.py \n",
    "|\n",
    "|_ tests/\n",
    "    |\n",
    "    |_annotations_and_masks/\n",
    "    |  |_ annotation_and_mask_utils_test.py\n",
    "    |  |_ annotations_to_masks_handler_test.py\n",
    "    |\n",
    "    |_test_files/\n",
    "       |_sample_GTcodes.csv \n",
    "```"
   ]
  },
  {
   "cell_type": "code",
   "execution_count": 1,
   "metadata": {},
   "outputs": [],
   "source": [
    "from __future__ import print_function\n",
    "\n",
    "import os\n",
    "import sys\n",
    "CWD = os.getcwd()\n",
    "sys.path.append(os.path.join(CWD, '..', '..'))\n",
    "\n",
    "import girder_client\n",
    "# from histomicstk.annotations_and_masks.annotation_and_mask_utils import (\n",
    "from annotation_and_mask_utils import (\n",
    "    get_image_from_htk_response, get_bboxes_from_slide_annotations, _get_idxs_for_all_rois)\n",
    "# from histomicstk.annotations_and_masks.annotations_to_masks_handler import (\n",
    "from annotations_to_masks_handler import (\n",
    "    get_roi_mask, get_all_roi_masks_for_slide)\n",
    "\n",
    "from imageio import imread\n",
    "from pandas import DataFrame, read_csv\n",
    "import matplotlib.pyplot as plt\n",
    "%matplotlib inline\n",
    "\n",
    "#Some nice default configuration for plots\n",
    "plt.rcParams['figure.figsize'] = 7, 7\n",
    "titlesize = 16"
   ]
  },
  {
   "cell_type": "markdown",
   "metadata": {},
   "source": [
    "## 1. Constants and prepwork"
   ]
  },
  {
   "cell_type": "code",
   "execution_count": 2,
   "metadata": {},
   "outputs": [],
   "source": [
    "# APIURL = 'http://demo.kitware.com/histomicstk/api/v1/'\n",
    "# SAMPLE_SLIDE_ID = '5bbdee92e629140048d01b5d'\n",
    "APIURL = 'http://candygram.neurology.emory.edu:8080/api/v1/'\n",
    "SAMPLE_SLIDE_ID = '5d586d57bd4404c6b1f28640'\n",
    "GTCODE_PATH = os.path.join(CWD, '..', '..', 'tests','test_files', 'sample_GTcodes.csv')\n",
    "MASK_SAVEPATH = os.path.join(CWD, '..', '..', 'roi_masks')\n",
    "\n",
    "# connect to girder client\n",
    "gc = girder_client.GirderClient(apiUrl=APIURL)\n",
    "# gc.authenticate(interactive=True)\n",
    "gc.authenticate(apiKey='kri19nTIGOkWH01TbzRqfohaaDWb6kPecRqGmemb')\n",
    "\n",
    "# create folders if necessary\n",
    "for folder in [MASK_SAVEPATH,]:\n",
    "    try:\n",
    "        os.mkdir(folder)\n",
    "    except FileExistsError:\n",
    "        pass"
   ]
  },
  {
   "cell_type": "markdown",
   "metadata": {},
   "source": [
    "### Let's inspect the ground truth codes file\n",
    "\n",
    "This contains the ground truth codes and information dataframe.\n",
    "This is a dataframe that is indexed by the annotation group name and\n",
    "has the following columns:\n",
    "\n",
    "- ```group```: group name of annotation (string), eg. \"mostly_tumor\"\n",
    "- ```overlay_order```: int, how early to place the annotation in the\n",
    "    mask. Larger values means this annotation group is overlayed\n",
    "    last and overwrites whatever overlaps it.\n",
    "- ```GT_code```: int, desired ground truth code (in the mask)\n",
    "    Pixels of this value belong to corresponding group (class)\n",
    "- ```is_roi```: Flag for whether this group encodes an ROI\n",
    "- ```is_background_class```: Flag, whether this group is the default\n",
    "    fill value inside the ROI. For example, you may descide that\n",
    "    any pixel inside the ROI is considered stroma.\n",
    "    \n",
    "**IMPORTANT NOTE:** \n",
    "\n",
    "Zero pixels have special meaning and do NOT encode specific ground truth class. Instead, they simply\n",
    "mean 'Outside ROI' and should be IGNORED during model training or evaluation."
   ]
  },
  {
   "cell_type": "code",
   "execution_count": 3,
   "metadata": {},
   "outputs": [],
   "source": [
    "# read GTCodes file\n",
    "GTCodes = read_csv(GTCODE_PATH)\n",
    "GTCodes.index = GTCodes.loc[:, 'group']"
   ]
  },
  {
   "cell_type": "code",
   "execution_count": 4,
   "metadata": {},
   "outputs": [
    {
     "data": {
      "text/html": [
       "<div>\n",
       "<style scoped>\n",
       "    .dataframe tbody tr th:only-of-type {\n",
       "        vertical-align: middle;\n",
       "    }\n",
       "\n",
       "    .dataframe tbody tr th {\n",
       "        vertical-align: top;\n",
       "    }\n",
       "\n",
       "    .dataframe thead th {\n",
       "        text-align: right;\n",
       "    }\n",
       "</style>\n",
       "<table border=\"1\" class=\"dataframe\">\n",
       "  <thead>\n",
       "    <tr style=\"text-align: right;\">\n",
       "      <th></th>\n",
       "      <th>group</th>\n",
       "      <th>overlay_order</th>\n",
       "      <th>GT_code</th>\n",
       "      <th>is_roi</th>\n",
       "      <th>is_background_class</th>\n",
       "      <th>color</th>\n",
       "      <th>comments</th>\n",
       "    </tr>\n",
       "    <tr>\n",
       "      <th>group</th>\n",
       "      <th></th>\n",
       "      <th></th>\n",
       "      <th></th>\n",
       "      <th></th>\n",
       "      <th></th>\n",
       "      <th></th>\n",
       "      <th></th>\n",
       "    </tr>\n",
       "  </thead>\n",
       "  <tbody>\n",
       "    <tr>\n",
       "      <th>roi</th>\n",
       "      <td>roi</td>\n",
       "      <td>0</td>\n",
       "      <td>255</td>\n",
       "      <td>1</td>\n",
       "      <td>0</td>\n",
       "      <td>rgb(255,0,0)</td>\n",
       "      <td>NaN</td>\n",
       "    </tr>\n",
       "    <tr>\n",
       "      <th>evaluation_roi</th>\n",
       "      <td>evaluation_roi</td>\n",
       "      <td>0</td>\n",
       "      <td>254</td>\n",
       "      <td>1</td>\n",
       "      <td>0</td>\n",
       "      <td>rgb(255,0,0)</td>\n",
       "      <td>NaN</td>\n",
       "    </tr>\n",
       "    <tr>\n",
       "      <th>mostly_tumor</th>\n",
       "      <td>mostly_tumor</td>\n",
       "      <td>1</td>\n",
       "      <td>1</td>\n",
       "      <td>0</td>\n",
       "      <td>0</td>\n",
       "      <td>rgb(255,0,0)</td>\n",
       "      <td>core class</td>\n",
       "    </tr>\n",
       "    <tr>\n",
       "      <th>mostly_stroma</th>\n",
       "      <td>mostly_stroma</td>\n",
       "      <td>2</td>\n",
       "      <td>2</td>\n",
       "      <td>0</td>\n",
       "      <td>1</td>\n",
       "      <td>rgb(255,125,0)</td>\n",
       "      <td>core class</td>\n",
       "    </tr>\n",
       "    <tr>\n",
       "      <th>mostly_lymphocytic_infiltrate</th>\n",
       "      <td>mostly_lymphocytic_infiltrate</td>\n",
       "      <td>1</td>\n",
       "      <td>3</td>\n",
       "      <td>0</td>\n",
       "      <td>0</td>\n",
       "      <td>rgb(0,0,255)</td>\n",
       "      <td>core class</td>\n",
       "    </tr>\n",
       "  </tbody>\n",
       "</table>\n",
       "</div>"
      ],
      "text/plain": [
       "                                                       group  overlay_order  \\\n",
       "group                                                                         \n",
       "roi                                                      roi              0   \n",
       "evaluation_roi                                evaluation_roi              0   \n",
       "mostly_tumor                                    mostly_tumor              1   \n",
       "mostly_stroma                                  mostly_stroma              2   \n",
       "mostly_lymphocytic_infiltrate  mostly_lymphocytic_infiltrate              1   \n",
       "\n",
       "                               GT_code  is_roi  is_background_class  \\\n",
       "group                                                                 \n",
       "roi                                255       1                    0   \n",
       "evaluation_roi                     254       1                    0   \n",
       "mostly_tumor                         1       0                    0   \n",
       "mostly_stroma                        2       0                    1   \n",
       "mostly_lymphocytic_infiltrate        3       0                    0   \n",
       "\n",
       "                                        color    comments  \n",
       "group                                                      \n",
       "roi                              rgb(255,0,0)         NaN  \n",
       "evaluation_roi                   rgb(255,0,0)         NaN  \n",
       "mostly_tumor                     rgb(255,0,0)  core class  \n",
       "mostly_stroma                  rgb(255,125,0)  core class  \n",
       "mostly_lymphocytic_infiltrate    rgb(0,0,255)  core class  "
      ]
     },
     "execution_count": 4,
     "metadata": {},
     "output_type": "execute_result"
    }
   ],
   "source": [
    "GTCodes.head()"
   ]
  },
  {
   "cell_type": "markdown",
   "metadata": {},
   "source": [
    "## 2. Get all ROIs for a slide"
   ]
  },
  {
   "cell_type": "markdown",
   "metadata": {},
   "source": [
    "### This is the core method you'll want to use"
   ]
  },
  {
   "cell_type": "code",
   "execution_count": 5,
   "metadata": {},
   "outputs": [
    {
     "name": "stdout",
     "output_type": "stream",
     "text": [
      "\n",
      "    Parse annotations and saves ground truth masks for ALL ROIs.\n",
      "\n",
      "    Get all ROIs in a single slide. This is a wrapper around get_roi_mask()\n",
      "    which should be referred to for implementation details.\n",
      "\n",
      "    Parameters\n",
      "    -----------\n",
      "    gc : object\n",
      "        girder client object to make requests, for example:\n",
      "        gc = girder_client.GirderClient(apiUrl = APIURL)\n",
      "        gc.authenticate(interactive=True)\n",
      "    slide_id : str\n",
      "        girder id for item (slide)\n",
      "    GTCODE_PATH : str\n",
      "        path to the ground truth codes and information\n",
      "        csv file. Refer to the docstring of get_roi_mask() for more info.\n",
      "    MASK_SAVEPATH : str\n",
      "        path to directory to save ROI masks\n",
      "    slide_name (optional) : str\n",
      "        If not given, it's inferred using a server request using girder client.\n",
      "    verbose (optional) : bool\n",
      "        Print progress to screen?\n",
      "    monitorPrefix (optional) : str\n",
      "        text to prepend to printed statements\n",
      "    get_roi_mask_kwargs : dict\n",
      "        extra kwargs for get_roi_mask()\n",
      "\n",
      "    Returns\n",
      "    --------\n",
      "    list of strs\n",
      "        save paths for ROIs\n",
      "\n",
      "    Example\n",
      "    --------\n",
      "        gc= girder_client.GirderClient(apiUrl = APIURL)\n",
      "        gc.authenticate(interactive=True)\n",
      "        get_all_roi_masks_for_slide(\n",
      "            gc=gc, slide_id=SAMPLE_SLIDE_ID, GTCODE_PATH=GTCODE_PATH,\n",
      "            MASK_SAVEPATH=MASK_SAVEPATH,\n",
      "            get_roi_mask_kwargs = {\n",
      "                'iou_thresh': 0.0, 'crop_to_roi': True, 'verbose': True},\n",
      "            )\n",
      "\n",
      "    \n"
     ]
    }
   ],
   "source": [
    "print(get_all_roi_masks_for_slide.__doc__)"
   ]
  },
  {
   "cell_type": "markdown",
   "metadata": {},
   "source": [
    "The parameter ```get_roi_mask_kwargs``` is a dictionary of ```kwargs``` that is passed on to ```get_roi_mask()```. Watchout for the following parameters:\n",
    "\n",
    "- ```crop_to_roi``` - flag of whether to crop polygons to roi (prevent 'overflow' beyond roi edge)\n",
    "\n",
    "- ```use_shapely``` - flag of whether to precisely determine whether an element\n",
    "    belongs to an ROI using shapely polygons. Ever-so-slightly slower. If\n",
    "    set to False, overlapping bounding box is used as a cheap but\n",
    "    less precise indicator of inclusion."
   ]
  },
  {
   "cell_type": "code",
   "execution_count": 6,
   "metadata": {
    "scrolled": true
   },
   "outputs": [
    {
     "name": "stdout",
     "output_type": "stream",
     "text": [
      ": roi 1 of 3: Overlay level -1: Element 1 of 54: roi\n",
      ": roi 1 of 3: Overlay level -1: Element 2 of 54: roi\n",
      ": roi 1 of 3: Overlay level -1: Element 2 of 54: roi: OUSIDE ROI.\n",
      ": roi 1 of 3: Overlay level 1: Element 3 of 54: mostly_tumor\n",
      ": roi 1 of 3: Overlay level 1: Element 4 of 54: mostly_tumor\n",
      ": roi 1 of 3: Overlay level 1: Element 4 of 54: mostly_tumor: OUSIDE ROI.\n",
      ": roi 1 of 3: Overlay level 1: Element 5 of 54: mostly_lymphocytic_infiltrate\n",
      ": roi 1 of 3: Overlay level 1: Element 6 of 54: mostly_tumor\n",
      ": roi 1 of 3: Overlay level 1: Element 7 of 54: mostly_tumor\n",
      ": roi 1 of 3: Overlay level 1: Element 8 of 54: mostly_lymphocytic_infiltrate\n",
      ": roi 1 of 3: Overlay level 1: Element 9 of 54: mostly_lymphocytic_infiltrate\n",
      ": roi 1 of 3: Overlay level 1: Element 10 of 54: mostly_lymphocytic_infiltrate\n",
      ": roi 1 of 3: Overlay level 1: Element 11 of 54: mostly_tumor\n",
      ": roi 1 of 3: Overlay level 1: Element 12 of 54: mostly_lymphocytic_infiltrate\n",
      ": roi 1 of 3: Overlay level 1: Element 13 of 54: mostly_tumor\n",
      ": roi 1 of 3: Overlay level 1: Element 14 of 54: mostly_tumor\n",
      ": roi 1 of 3: Overlay level 1: Element 15 of 54: mostly_tumor\n",
      ": roi 1 of 3: Overlay level 1: Element 16 of 54: mostly_tumor\n",
      ": roi 1 of 3: Overlay level 1: Element 17 of 54: mostly_tumor\n",
      ": roi 1 of 3: Overlay level 1: Element 18 of 54: mostly_lymphocytic_infiltrate\n",
      ": roi 1 of 3: Overlay level 1: Element 19 of 54: mostly_lymphocytic_infiltrate\n",
      ": roi 1 of 3: Overlay level 1: Element 20 of 54: mostly_tumor\n",
      ": roi 1 of 3: Overlay level 1: Element 21 of 54: mostly_tumor\n",
      ": roi 1 of 3: Overlay level 1: Element 21 of 54: mostly_tumor: OUSIDE ROI.\n",
      ": roi 1 of 3: Overlay level 1: Element 22 of 54: mostly_tumor\n",
      ": roi 1 of 3: Overlay level 1: Element 22 of 54: mostly_tumor: OUSIDE ROI.\n",
      ": roi 1 of 3: Overlay level 1: Element 23 of 54: mostly_tumor\n",
      ": roi 1 of 3: Overlay level 1: Element 24 of 54: mostly_tumor\n",
      ": roi 1 of 3: Overlay level 1: Element 25 of 54: normal_acinus_or_duct\n",
      ": roi 1 of 3: Overlay level 1: Element 26 of 54: mostly_tumor\n",
      ": roi 1 of 3: Overlay level 1: Element 27 of 54: mostly_tumor\n",
      ": roi 1 of 3: Overlay level 1: Element 28 of 54: mostly_tumor\n",
      ": roi 1 of 3: Overlay level 1: Element 29 of 54: normal_acinus_or_duct\n",
      ": roi 1 of 3: Overlay level 1: Element 30 of 54: mostly_lymphocytic_infiltrate\n",
      ": roi 1 of 3: Overlay level 1: Element 31 of 54: mostly_tumor\n",
      ": roi 1 of 3: Overlay level 1: Element 32 of 54: mostly_lymphocytic_infiltrate\n",
      ": roi 1 of 3: Overlay level 1: Element 33 of 54: blood_vessel\n",
      ": roi 1 of 3: Overlay level 1: Element 34 of 54: blood_vessel\n",
      ": roi 1 of 3: Overlay level 1: Element 35 of 54: mostly_tumor\n",
      ": roi 1 of 3: Overlay level 1: Element 36 of 54: mostly_tumor\n",
      ": roi 1 of 3: Overlay level 1: Element 37 of 54: blood_vessel\n",
      ": roi 1 of 3: Overlay level 1: Element 38 of 54: mostly_tumor\n",
      ": roi 1 of 3: Overlay level 1: Element 39 of 54: mostly_lymphocytic_infiltrate\n",
      ": roi 1 of 3: Overlay level 1: Element 40 of 54: mostly_lymphocytic_infiltrate\n",
      ": roi 1 of 3: Overlay level 1: Element 41 of 54: mostly_tumor\n",
      ": roi 1 of 3: Overlay level 1: Element 42 of 54: mostly_tumor\n",
      ": roi 1 of 3: Overlay level 1: Element 43 of 54: mostly_tumor\n",
      ": roi 1 of 3: Overlay level 1: Element 44 of 54: mostly_tumor\n",
      ": roi 1 of 3: Overlay level 1: Element 45 of 54: mostly_lymphocytic_infiltrate\n",
      ": roi 1 of 3: Overlay level 1: Element 46 of 54: mostly_tumor\n",
      ": roi 1 of 3: Overlay level 1: Element 47 of 54: mostly_lymphocytic_infiltrate\n",
      ": roi 1 of 3: Overlay level 1: Element 48 of 54: mostly_tumor\n",
      ": roi 1 of 3: Overlay level 1: Element 49 of 54: mostly_lymphocytic_infiltrate\n",
      ": roi 1 of 3: Overlay level 1: Element 50 of 54: mostly_tumor\n",
      ": roi 1 of 3: Overlay level 1: Element 51 of 54: mostly_tumor\n",
      ": roi 1 of 3: Overlay level 2: Element 52 of 54: mostly_stroma\n",
      ": roi 1 of 3: Overlay level 2: Element 53 of 54: mostly_stroma\n",
      ": roi 1 of 3: Overlay level 3: Element 54 of 54: exclude\n",
      ": roi 1 of 3: Saving C:\\Users\\tageldim\\Desktop\\HistomicsTK\\histomicstk\\annotations_and_masks\\..\\..\\roi_masks\\TCGA-A2-A0YE-01Z-00-DX1.8A2E3094-5755-42BC-969D-7F0A2ECA0F39_left-59206_top-33505_mag-BASE.png\n",
      "\n",
      ": roi 2 of 3: Overlay level -1: Element 1 of 16: roi\n",
      ": roi 2 of 3: Overlay level 1: Element 2 of 16: mostly_tumor\n",
      ": roi 2 of 3: Overlay level 1: Element 3 of 16: mostly_lymphocytic_infiltrate\n",
      ": roi 2 of 3: Overlay level 1: Element 4 of 16: mostly_tumor\n",
      ": roi 2 of 3: Overlay level 1: Element 5 of 16: mostly_tumor\n",
      ": roi 2 of 3: Overlay level 1: Element 6 of 16: mostly_lymphocytic_infiltrate\n",
      ": roi 2 of 3: Overlay level 1: Element 7 of 16: mostly_tumor\n",
      ": roi 2 of 3: Overlay level 1: Element 8 of 16: mostly_tumor\n",
      ": roi 2 of 3: Overlay level 1: Element 9 of 16: mostly_tumor\n",
      ": roi 2 of 3: Overlay level 1: Element 10 of 16: mostly_tumor\n",
      ": roi 2 of 3: Overlay level 1: Element 11 of 16: blood_vessel\n",
      ": roi 2 of 3: Overlay level 1: Element 12 of 16: mostly_tumor\n",
      ": roi 2 of 3: Overlay level 2: Element 13 of 16: mostly_stroma\n",
      ": roi 2 of 3: Overlay level 2: Element 14 of 16: mostly_stroma\n",
      ": roi 2 of 3: Overlay level 2: Element 15 of 16: mostly_stroma\n",
      ": roi 2 of 3: Overlay level 3: Element 16 of 16: exclude\n",
      ": roi 2 of 3: Saving C:\\Users\\tageldim\\Desktop\\HistomicsTK\\histomicstk\\annotations_and_masks\\..\\..\\roi_masks\\TCGA-A2-A0YE-01Z-00-DX1.8A2E3094-5755-42BC-969D-7F0A2ECA0F39_left-58482_top-38217_mag-BASE.png\n",
      "\n",
      ": roi 3 of 3: Overlay level -1: Element 1 of 12: roi\n",
      ": roi 3 of 3: Overlay level -1: Element 1 of 12: roi: OUSIDE ROI.\n",
      ": roi 3 of 3: Overlay level -1: Element 2 of 12: roi\n",
      ": roi 3 of 3: Overlay level 1: Element 3 of 12: mostly_tumor\n",
      ": roi 3 of 3: Overlay level 1: Element 3 of 12: mostly_tumor: OUSIDE ROI.\n",
      ": roi 3 of 3: Overlay level 1: Element 4 of 12: mostly_tumor\n",
      ": roi 3 of 3: Overlay level 1: Element 5 of 12: mostly_tumor\n",
      ": roi 3 of 3: Overlay level 1: Element 6 of 12: mostly_tumor\n",
      ": roi 3 of 3: Overlay level 1: Element 7 of 12: mostly_tumor\n",
      ": roi 3 of 3: Overlay level 1: Element 8 of 12: mostly_tumor\n",
      ": roi 3 of 3: Overlay level 3: Element 9 of 12: exclude\n",
      ": roi 3 of 3: Overlay level 3: Element 10 of 12: exclude\n",
      ": roi 3 of 3: Overlay level 3: Element 11 of 12: exclude\n",
      ": roi 3 of 3: Overlay level 3: Element 12 of 12: exclude\n",
      ": roi 3 of 3: Saving C:\\Users\\tageldim\\Desktop\\HistomicsTK\\histomicstk\\annotations_and_masks\\..\\..\\roi_masks\\TCGA-A2-A0YE-01Z-00-DX1.8A2E3094-5755-42BC-969D-7F0A2ECA0F39_left-57611_top-35827_mag-BASE.png\n",
      "\n"
     ]
    }
   ],
   "source": [
    "savenames = get_all_roi_masks_for_slide(\n",
    "    gc=gc, slide_id=SAMPLE_SLIDE_ID, GTCODE_PATH=GTCODE_PATH,\n",
    "    MASK_SAVEPATH=MASK_SAVEPATH, verbose=True,\n",
    "    get_roi_mask_kwargs={\n",
    "        'iou_thresh': 0.0, 'crop_to_roi': True, 'use_shapely': True,\n",
    "        'verbose': True},\n",
    ")"
   ]
  },
  {
   "cell_type": "markdown",
   "metadata": {},
   "source": [
    "### Let's visualize the ROIs created"
   ]
  },
  {
   "cell_type": "code",
   "execution_count": 7,
   "metadata": {},
   "outputs": [
    {
     "data": {
      "image/png": "[encoded data removed]",
      "text/plain": [
       "<matplotlib.figure.Figure at 0x7f2f4e0>"
      ]
     },
     "metadata": {},
     "output_type": "display_data"
    },
    {
     "data": {
      "image/png": "[encoded data removed]",
      "text/plain": [
       "<matplotlib.figure.Figure at 0x9979390>"
      ]
     },
     "metadata": {},
     "output_type": "display_data"
    },
    {
     "data": {
      "image/png": "[encoded data removed]",
      "text/plain": [
       "<matplotlib.figure.Figure at 0xae73d68>"
      ]
     },
     "metadata": {},
     "output_type": "display_data"
    }
   ],
   "source": [
    "for savename in savenames:\n",
    "    ROI = imread(savename)\n",
    "    plt.figure(figsize=(7,7))\n",
    "    plt.imshow(ROI)\n",
    "    plt.title(os.path.split(savename)[1])\n",
    "    plt.show()"
   ]
  },
  {
   "cell_type": "markdown",
   "metadata": {},
   "source": [
    "### Now let's repeat the process without cropping to the ROI boundary"
   ]
  },
  {
   "cell_type": "code",
   "execution_count": 8,
   "metadata": {},
   "outputs": [
    {
     "name": "stdout",
     "output_type": "stream",
     "text": [
      ": roi 1 of 3: Saving C:\\Users\\tageldim\\Desktop\\HistomicsTK\\histomicstk\\annotations_and_masks\\..\\..\\roi_masks\\TCGA-A2-A0YE-01Z-00-DX1.8A2E3094-5755-42BC-969D-7F0A2ECA0F39_left-59206_top-33505_mag-BASE.png\n",
      "\n",
      ": roi 2 of 3: Saving C:\\Users\\tageldim\\Desktop\\HistomicsTK\\histomicstk\\annotations_and_masks\\..\\..\\roi_masks\\TCGA-A2-A0YE-01Z-00-DX1.8A2E3094-5755-42BC-969D-7F0A2ECA0F39_left-58294_top-37917_mag-BASE.png\n",
      "\n",
      ": roi 3 of 3: Saving C:\\Users\\tageldim\\Desktop\\HistomicsTK\\histomicstk\\annotations_and_masks\\..\\..\\roi_masks\\TCGA-A2-A0YE-01Z-00-DX1.8A2E3094-5755-42BC-969D-7F0A2ECA0F39_left-56743_top-35575_mag-BASE.png\n",
      "\n"
     ]
    }
   ],
   "source": [
    "savenames = get_all_roi_masks_for_slide(\n",
    "    gc=gc, slide_id=SAMPLE_SLIDE_ID, GTCODE_PATH=GTCODE_PATH,\n",
    "    MASK_SAVEPATH=MASK_SAVEPATH, verbose=True,\n",
    "    get_roi_mask_kwargs={\n",
    "        'iou_thresh': 0.0, 'crop_to_roi': False, 'use_shapely': True,\n",
    "        'verbose': False},\n",
    ")"
   ]
  },
  {
   "cell_type": "code",
   "execution_count": 9,
   "metadata": {},
   "outputs": [
    {
     "data": {
      "image/png": "[encoded data removed]",
      "text/plain": [
       "<matplotlib.figure.Figure at 0xadf0f28>"
      ]
     },
     "metadata": {},
     "output_type": "display_data"
    },
    {
     "data": {
      "image/png": "[encoded data removed]",
      "text/plain": [
       "<matplotlib.figure.Figure at 0x9901400>"
      ]
     },
     "metadata": {},
     "output_type": "display_data"
    },
    {
     "data": {
      "image/png": "[encoded data removed]",
      "text/plain": [
       "<matplotlib.figure.Figure at 0x99799e8>"
      ]
     },
     "metadata": {},
     "output_type": "display_data"
    }
   ],
   "source": [
    "# let's visualize the ROIs\n",
    "for savename in savenames:\n",
    "    ROI = imread(savename)\n",
    "    plt.figure(figsize=(7,7))\n",
    "    plt.imshow(ROI)\n",
    "    plt.title(os.path.split(savename)[1])\n",
    "    plt.show()"
   ]
  },
  {
   "cell_type": "markdown",
   "metadata": {},
   "source": [
    "## 3. [EXTRA] - Explore some of the inner workings"
   ]
  },
  {
   "cell_type": "markdown",
   "metadata": {},
   "source": [
    "### Core method being called to get a specific ROI from a slide"
   ]
  },
  {
   "cell_type": "code",
   "execution_count": 10,
   "metadata": {},
   "outputs": [
    {
     "name": "stdout",
     "output_type": "stream",
     "text": [
      "\n",
      "    Parse annotations and gets a ground truth mask for a single ROI.\n",
      "\n",
      "    This will look at all slide annotations and get ones that\n",
      "    overlap with the region of interest (ROI) and assigns them to mask.\n",
      "\n",
      "    Parameters\n",
      "    -----------\n",
      "    slide_annotations : list of dicts\n",
      "        response from server request\n",
      "        eg. slide_annotations = gc.get('/annotation/item/' + SLIDE_ID)\n",
      "    element_infos : pandas DataFrame.\n",
      "        The columns annidx and elementidx\n",
      "        encode the dict index of annotation document and element,\n",
      "        respectively, in the original slide_annotations list of dictionaries.\n",
      "        This can be obain by get_bboxes_from_slide_annotations() method, eg.\n",
      "        element_infos  = get_bboxes_from_slide_annotations(slide_annotations)\n",
      "    GTCodes_df : pandas Dataframe\n",
      "        the ground truth codes and information dataframe.\n",
      "        WARNING: Modified indide this method so pass a copy.\n",
      "        This is a dataframe that is indexed by the annotation group name and\n",
      "        has the following columns:\n",
      "        - group: group name of annotation (string), eg. \"mostly_tumor\"\n",
      "        - overlay_order: int, how early to place the annotation in the\n",
      "            mask. Larger values means this annotation group is overlayed\n",
      "            last and overwrites whatever overlaps it.\n",
      "        - GT_code: int, desired ground truth code (in the mask)\n",
      "            Pixels of this value belong to corresponding group (class)\n",
      "        - is_roi: Flag for whether this group encodes an ROI\n",
      "        - is_background_class: Flag, whether this group is the default\n",
      "            fill value inside the ROI. For example, you may descide that\n",
      "            any pixel inside the ROI is considered stroma.\n",
      "    idx_for_roi : int\n",
      "        index of ROI within the element_infos dataframe.\n",
      "    iou_thresh : float\n",
      "        how much bounding box overlap is enough to\n",
      "        consider an annotation to belong to the region of interest\n",
      "    roiinfo (optional) : pandas series or dict\n",
      "        contains information about the roi. Keys will be added to this\n",
      "        index containing info about the roi like bounding box\n",
      "        location and size.\n",
      "    crop_to_roi : bool\n",
      "        flag of whether to crop polygons to roi\n",
      "        (prevent 'overflow' beyond roi edge)\n",
      "    use_shapely : bool\n",
      "        flag of whether to precisely determine whether an element\n",
      "        belongs to an ROI using shapely polygons. Slightly slower. If\n",
      "        set to False, overlapping bounding box is used as a cheap but\n",
      "        less precise indicator of inclusion.\n",
      "    verbose (optional) : bool\n",
      "        Print progress to screen?\n",
      "    monitorPrefix (optional) : str\n",
      "        text to prepend to printed statements\n",
      "\n",
      "    Returns\n",
      "    --------\n",
      "    Np array\n",
      "        (N x 2), where pixel values encode class membership.\n",
      "        -> IMPORTANT NOTE: Zero pixels have special meaning and do NOT\n",
      "        encode specific ground truth class. Instead, they simply\n",
      "        mean 'Outside ROI' and should be IGNORED during model training\n",
      "        or evaluation.\n",
      "    Dict\n",
      "        information about ROI\n",
      "\n",
      "    Example\n",
      "    -------\n",
      "        gc= girder_client.GirderClient(apiUrl = APIURL)\n",
      "        gc.authenticate(interactive=True)\n",
      "\n",
      "        # get annotations for slide\n",
      "        slide_annotations = gc.get('/annotation/item/' + SAMPLE_SLIDE_ID)\n",
      "\n",
      "        # get bounding box information for all annotations\n",
      "        element_infos = get_bboxes_from_slide_annotations(slide_annotations)\n",
      "\n",
      "        # read ground truth codes and information\n",
      "        GTCodes = read_csv(GTCODE_PATH)\n",
      "        GTCodes.index = GTCodes.loc[:, 'group']\n",
      "\n",
      "        # get indices of rois\n",
      "        idxs_for_all_rois = _get_idxs_for_all_rois(\n",
      "                GTCodes=GTCodes, element_infos=element_infos)\n",
      "\n",
      "        # get roi mask and info\n",
      "        ROI, roiinfo = get_roi_mask(\n",
      "            slide_annotations=slide_annotations, element_infos=element_infos,\n",
      "            GTCodes_df=GTCodes.copy(),\n",
      "            idx_for_roi = idxs_for_all_rois[0], # <- let's focus on first ROI,\n",
      "            iou_thresh=0.0, roiinfo=None, crop_to_roi=True,\n",
      "            verbose=True, monitorPrefix=\"roi 1\")\n",
      "\n",
      "    \n"
     ]
    }
   ],
   "source": [
    "print(get_roi_mask.__doc__)"
   ]
  },
  {
   "cell_type": "markdown",
   "metadata": {},
   "source": [
    "### Get slide annotations and bounding boxes for all elements"
   ]
  },
  {
   "cell_type": "code",
   "execution_count": 11,
   "metadata": {},
   "outputs": [],
   "source": [
    "slide_annotations = gc.get('/annotation/item/' + SAMPLE_SLIDE_ID)\n",
    "element_infos = get_bboxes_from_slide_annotations(slide_annotations)"
   ]
  },
  {
   "cell_type": "code",
   "execution_count": 12,
   "metadata": {},
   "outputs": [
    {
     "data": {
      "text/html": [
       "<div>\n",
       "<style scoped>\n",
       "    .dataframe tbody tr th:only-of-type {\n",
       "        vertical-align: middle;\n",
       "    }\n",
       "\n",
       "    .dataframe tbody tr th {\n",
       "        vertical-align: top;\n",
       "    }\n",
       "\n",
       "    .dataframe thead th {\n",
       "        text-align: right;\n",
       "    }\n",
       "</style>\n",
       "<table border=\"1\" class=\"dataframe\">\n",
       "  <thead>\n",
       "    <tr style=\"text-align: right;\">\n",
       "      <th></th>\n",
       "      <th>annidx</th>\n",
       "      <th>elementidx</th>\n",
       "      <th>type</th>\n",
       "      <th>group</th>\n",
       "      <th>xmin</th>\n",
       "      <th>xmax</th>\n",
       "      <th>ymin</th>\n",
       "      <th>ymax</th>\n",
       "      <th>bbox_area</th>\n",
       "    </tr>\n",
       "  </thead>\n",
       "  <tbody>\n",
       "    <tr>\n",
       "      <th>0</th>\n",
       "      <td>0.0</td>\n",
       "      <td>0.0</td>\n",
       "      <td>rectangle</td>\n",
       "      <td>roi</td>\n",
       "      <td>59206.0</td>\n",
       "      <td>63749.0</td>\n",
       "      <td>33505.0</td>\n",
       "      <td>38100.0</td>\n",
       "      <td>20875085.0</td>\n",
       "    </tr>\n",
       "    <tr>\n",
       "      <th>1</th>\n",
       "      <td>1.0</td>\n",
       "      <td>0.0</td>\n",
       "      <td>polyline</td>\n",
       "      <td>blood_vessel</td>\n",
       "      <td>61403.0</td>\n",
       "      <td>61590.0</td>\n",
       "      <td>37411.0</td>\n",
       "      <td>37587.0</td>\n",
       "      <td>32912.0</td>\n",
       "    </tr>\n",
       "    <tr>\n",
       "      <th>2</th>\n",
       "      <td>1.0</td>\n",
       "      <td>1.0</td>\n",
       "      <td>polyline</td>\n",
       "      <td>blood_vessel</td>\n",
       "      <td>60436.0</td>\n",
       "      <td>60570.0</td>\n",
       "      <td>36612.0</td>\n",
       "      <td>36811.0</td>\n",
       "      <td>26666.0</td>\n",
       "    </tr>\n",
       "    <tr>\n",
       "      <th>3</th>\n",
       "      <td>1.0</td>\n",
       "      <td>2.0</td>\n",
       "      <td>polyline</td>\n",
       "      <td>blood_vessel</td>\n",
       "      <td>61763.0</td>\n",
       "      <td>61950.0</td>\n",
       "      <td>34218.0</td>\n",
       "      <td>34342.0</td>\n",
       "      <td>23188.0</td>\n",
       "    </tr>\n",
       "    <tr>\n",
       "      <th>4</th>\n",
       "      <td>2.0</td>\n",
       "      <td>0.0</td>\n",
       "      <td>polyline</td>\n",
       "      <td>mostly_lymphocytic_infiltrate</td>\n",
       "      <td>61875.0</td>\n",
       "      <td>63301.0</td>\n",
       "      <td>35695.0</td>\n",
       "      <td>37360.0</td>\n",
       "      <td>2374290.0</td>\n",
       "    </tr>\n",
       "  </tbody>\n",
       "</table>\n",
       "</div>"
      ],
      "text/plain": [
       "   annidx  elementidx       type                          group     xmin  \\\n",
       "0     0.0         0.0  rectangle                            roi  59206.0   \n",
       "1     1.0         0.0   polyline                   blood_vessel  61403.0   \n",
       "2     1.0         1.0   polyline                   blood_vessel  60436.0   \n",
       "3     1.0         2.0   polyline                   blood_vessel  61763.0   \n",
       "4     2.0         0.0   polyline  mostly_lymphocytic_infiltrate  61875.0   \n",
       "\n",
       "      xmax     ymin     ymax   bbox_area  \n",
       "0  63749.0  33505.0  38100.0  20875085.0  \n",
       "1  61590.0  37411.0  37587.0     32912.0  \n",
       "2  60570.0  36612.0  36811.0     26666.0  \n",
       "3  61950.0  34218.0  34342.0     23188.0  \n",
       "4  63301.0  35695.0  37360.0   2374290.0  "
      ]
     },
     "execution_count": 12,
     "metadata": {},
     "output_type": "execute_result"
    }
   ],
   "source": [
    "element_infos.head()"
   ]
  },
  {
   "cell_type": "markdown",
   "metadata": {},
   "source": [
    "### Now get a specific ROI"
   ]
  },
  {
   "cell_type": "code",
   "execution_count": 13,
   "metadata": {},
   "outputs": [],
   "source": [
    "# get indices of rois relative to the element_infos dataframe\n",
    "idxs_for_all_rois = _get_idxs_for_all_rois(\n",
    "    GTCodes=GTCodes, element_infos=element_infos)"
   ]
  },
  {
   "cell_type": "code",
   "execution_count": 14,
   "metadata": {},
   "outputs": [],
   "source": [
    "# get roi mask and information\n",
    "ROI, roiinfo = get_roi_mask(\n",
    "    slide_annotations=slide_annotations, element_infos=element_infos,\n",
    "    GTCodes_df=GTCodes.copy(),\n",
    "    idx_for_roi=idxs_for_all_rois[0],  # <- let's focus on first ROI,\n",
    "    iou_thresh=0.0, roiinfo=None, crop_to_roi=True, use_shapely=True,\n",
    "    verbose=False, monitorPrefix=\"roi 1\")"
   ]
  },
  {
   "cell_type": "code",
   "execution_count": 15,
   "metadata": {},
   "outputs": [
    {
     "data": {
      "text/plain": [
       "{'BBOX_HEIGHT': 4820,\n",
       " 'BBOX_WIDTH': 7006,\n",
       " 'XMAX': 66212,\n",
       " 'XMIN': 59206,\n",
       " 'YMAX': 38325,\n",
       " 'YMIN': 33505}"
      ]
     },
     "execution_count": 15,
     "metadata": {},
     "output_type": "execute_result"
    }
   ],
   "source": [
    "roiinfo"
   ]
  },
  {
   "cell_type": "code",
   "execution_count": 16,
   "metadata": {},
   "outputs": [
    {
     "data": {
      "image/png": "[encoded data removed]",
      "text/plain": [
       "<matplotlib.figure.Figure at 0x9ad3ba8>"
      ]
     },
     "metadata": {},
     "output_type": "display_data"
    }
   ],
   "source": [
    "plt.figure(figsize=(7,7))\n",
    "plt.imshow(ROI)\n",
    "plt.show()"
   ]
  }
 ],
 "metadata": {
  "kernelspec": {
   "display_name": "Python 3",
   "language": "python",
   "name": "python3"
  },
  "language_info": {
   "codemirror_mode": {
    "name": "ipython",
    "version": 3
   },
   "file_extension": ".py",
   "mimetype": "text/x-python",
   "name": "python",
   "nbconvert_exporter": "python",
   "pygments_lexer": "ipython3",
   "version": "3.6.4"
  }
 },
 "nbformat": 4,
 "nbformat_minor": 2
}
